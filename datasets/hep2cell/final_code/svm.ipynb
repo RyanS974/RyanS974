{
 "cells": [
  {
   "cell_type": "markdown",
   "metadata": {},
   "source": [
    "# SVM (Support Vector Machine)"
   ]
  },
  {
   "cell_type": "markdown",
   "metadata": {},
   "source": [
    "This python notebook is of just SVM and the HEp2 Cells dataset.  SIFT extraction with the model is in another notebook."
   ]
  },
  {
   "cell_type": "markdown",
   "metadata": {},
   "source": [
    "# Image Related Functions"
   ]
  },
  {
   "cell_type": "markdown",
   "metadata": {},
   "source": [
    "This code defines a function called display_image that uses the matplotlib.pyplot library to display an image. It takes the image data and an optional title as input. The function sets the colormap to 'gray' for grayscale display, sets the title of the plot, and turns off the axis labels for a cleaner look. Finally, it uses plt.show() to display the image. This function provides a simple way to visualize image data within a Python script or notebook."
   ]
  },
  {
   "cell_type": "code",
   "execution_count": 3,
   "metadata": {},
   "outputs": [],
   "source": [
    "# import matplotlib.pyplot as plt\n",
    "import os\n",
    "import cv2\n",
    "import numpy as np\n",
    "import random\n",
    "\n",
    "def display_image(image, title=\"Image\"):\n",
    "    plt.imshow(image, cmap='gray')\n",
    "    plt.title(title)\n",
    "    plt.axis('off')  # Hide axis\n",
    "    plt.show()\n"
   ]
  },
  {
   "cell_type": "markdown",
   "metadata": {},
   "source": [
    "# Label Loading Functions"
   ]
  },
  {
   "cell_type": "markdown",
   "metadata": {},
   "source": [
    "This code snippet defines two functions for loading and analyzing image labels. load_labels reads a MATLAB (.mat) file containing labels, extracts the 'labels' array, flattens it into a 1D array, and optionally truncates it to a specified number of labels. print_label_distribution takes the loaded labels as input and calculates the distribution of each unique label, displaying the count and percentage of each label in the dataset. This provides a summary of the label frequencies, which is valuable for understanding the dataset's composition and potential class imbalances."
   ]
  },
  {
   "cell_type": "code",
   "execution_count": 11,
   "metadata": {},
   "outputs": [],
   "source": [
    "# label loading code\n",
    "import scipy.io\n",
    "import numpy as np\n",
    "\n",
    "def load_labels(mat_file, num_labels=63445):\n",
    "    print(\"Loading labels...\")\n",
    "    labels = scipy.io.loadmat(mat_file)['labels'].flatten()[:num_labels]\n",
    "    print(f\"Loaded {len(labels)} labels.\\n\")\n",
    "    return labels\n",
    "\n",
    "def print_label_distribution(labels):\n",
    "    unique, counts = np.unique(labels, return_counts=True)\n",
    "    total = len(labels)\n",
    "    print(\"Label Distribution:\")\n",
    "    for label, count in zip(unique, counts):\n",
    "        percentage = (count / total) * 100\n",
    "        print(f\"Label {label}: {count} ({percentage:.2f}%)\")\n"
   ]
  },
  {
   "cell_type": "markdown",
   "metadata": {},
   "source": [
    "# Preprocessing Function"
   ]
  },
  {
   "cell_type": "markdown",
   "metadata": {},
   "source": [
    "This Python code preprocesses a set of images located in a specified directory. It iterates through a given number of image files (PNG format), reading each image in grayscale, resizing it to 64x64 pixels, and normalizing its pixel values to a range between 0 and 1. If an image file is not found, it prints a warning message. The function provides progress updates every 5000 images processed and finally returns an array containing all the preprocessed images. This preprocessing step is crucial in computer vision tasks to standardize image data and potentially reduce computational complexity for subsequent analysis or model training."
   ]
  },
  {
   "cell_type": "code",
   "execution_count": null,
   "metadata": {},
   "outputs": [],
   "source": [
    "# preprocessing code\n",
    "import cv2\n",
    "import numpy as np\n",
    "import os\n",
    "\n",
    "def preprocess_images(image_dir, num_images):\n",
    "    print(\"Preprocessing images...\")\n",
    "    images = []\n",
    "    for i in range(1, num_images + 1):\n",
    "        img_path = os.path.join(image_dir, f\"{i}.png\")\n",
    "        if not os.path.exists(img_path):\n",
    "            print(f\"Warning: Image {img_path} not found\")\n",
    "            continue\n",
    "\n",
    "        image = cv2.imread(img_path, cv2.IMREAD_GRAYSCALE)\n",
    "        image = cv2.resize(image, (64, 64))\n",
    "        image = image / 255.0\n",
    "        images.append(image)\n",
    "\n",
    "        if i % 5000 == 0:\n",
    "            print(f\"Processed images {i-4999}-{i}\")\n",
    "    \n",
    "    print(\"Finished preprocessing images.\\n\")\n",
    "    return np.array(images)\n"
   ]
  },
  {
   "cell_type": "markdown",
   "metadata": {},
   "source": [
    "# Data Splitting, Model Building, Training, Validation, and Testing Functions"
   ]
  },
  {
   "cell_type": "markdown",
   "metadata": {},
   "source": [
    "This code defines a function train_and_evaluate that takes image features (X) and labels (y) as input, along with a sample size. It first samples a subset of the data (25,000 of the 63,000) to manage computational resources. Then, it splits this sampled data into training, validation, and testing sets.  A StandardScaler is used to standardize the features, which is crucial for many machine learning algorithms like SVMs.  The code then trains an SVM model with a linear kernel using the training data.  The trained model is validated using the validation set, and performance metrics like accuracy and a classification report are printed. Finally, the model is tested on the held-out test set to assess its generalization ability, again reporting the accuracy and classification report. This function encapsulates a standard machine learning workflow of data splitting, preprocessing, training, validation, and testing."
   ]
  },
  {
   "cell_type": "code",
   "execution_count": 17,
   "metadata": {},
   "outputs": [],
   "source": [
    "# functions for splitting the data, building the model, training it, validating it, and testing it.\n",
    "import numpy as np\n",
    "from sklearn.model_selection import train_test_split\n",
    "from sklearn.svm import SVC\n",
    "from sklearn.metrics import accuracy_score, classification_report\n",
    "from sklearn.preprocessing import StandardScaler\n",
    "\n",
    "def train_and_evaluate(X, y, sample_size):\n",
    "    print(\"Starting training and evaluation...\")\n",
    "\n",
    "    # Convert to float32 to save memory\n",
    "    X = X.astype(np.float32)\n",
    "\n",
    "    # Sample images directly from the original dataset\n",
    "    X_sampled, _, y_sampled, _ = train_test_split(X, y, train_size=sample_size, random_state=42)\n",
    "    print(f\"Sampled data shape: {X_sampled.shape}\")\n",
    "\n",
    "    # Split the sampled data into new training, validation, and testing datasets\n",
    "    X_train, X_temp, y_train, y_temp = train_test_split(X_sampled, y_sampled, test_size=0.4, random_state=42)\n",
    "    X_val, X_test, y_val, y_test = train_test_split(X_temp, y_temp, test_size=0.5, random_state=42)\n",
    "\n",
    "    print(f\"Sampled data split: {len(X_train)} training, {len(X_val)} validation, {len(X_test)} testing samples\")\n",
    "\n",
    "    # Standardize the features\n",
    "    scaler = StandardScaler()\n",
    "    X_train = scaler.fit_transform(X_train)\n",
    "    X_val = scaler.transform(X_val)\n",
    "    X_test = scaler.transform(X_test)\n",
    "\n",
    "    print(\"Data standardized\")\n",
    "\n",
    "    # Build and train the SVM model\n",
    "    svm_model = SVC(kernel='linear')\n",
    "    print(\"Training SVM model...\")\n",
    "    svm_model.fit(X_train, y_train)\n",
    "    print(\"SVM model trained\")\n",
    "\n",
    "    # Validate the model\n",
    "    print(\"Validating model...\")\n",
    "    y_val_pred = svm_model.predict(X_val)\n",
    "    val_accuracy = accuracy_score(y_val, y_val_pred)\n",
    "    print(f\"Validation Accuracy: {val_accuracy}\")\n",
    "    print(\"Validation Classification Report:\")\n",
    "    print(classification_report(y_val, y_val_pred))\n",
    "\n",
    "    # Test the model\n",
    "    print(\"Testing model...\")\n",
    "    y_test_pred = svm_model.predict(X_test)\n",
    "    test_accuracy = accuracy_score(y_test, y_test_pred)\n",
    "    print(f\"Test Accuracy: {test_accuracy}\")\n",
    "    print(\"Test Classification Report:\")\n",
    "    print(classification_report(y_test, y_test_pred))\n"
   ]
  },
  {
   "cell_type": "markdown",
   "metadata": {},
   "source": [
    "# Main Function"
   ]
  },
  {
   "cell_type": "markdown",
   "metadata": {},
   "source": [
    "This Python code performs image classification using a Support Vector Machine (SVM) model. It begins by loading image labels from a MAT file and preprocessing a set of images from a specified directory.  The preprocessed images are then flattened and used as features to train an SVM model. After training, the code evaluates the model's performance, likely using metrics like accuracy or precision. This script appears designed for a specific dataset of cell images, with hardcoded paths and image counts."
   ]
  },
  {
   "cell_type": "code",
   "execution_count": 4,
   "metadata": {},
   "outputs": [
    {
     "name": "stdout",
     "output_type": "stream",
     "text": [
      "Loading labels...\n",
      "Loaded 63445 labels.\n",
      "\n",
      "Label Distribution:\n",
      "Label 1: 14367 (22.64%)\n",
      "Label 2: 14655 (23.10%)\n",
      "Label 3: 13257 (20.90%)\n",
      "Label 4: 13737 (21.65%)\n",
      "Label 5: 5086 (8.02%)\n",
      "Label 6: 2343 (3.69%)\n",
      "Preprocessing images...\n",
      "Processed images 1-5000\n",
      "Processed images 5001-10000\n",
      "Processed images 10001-15000\n",
      "Processed images 15001-20000\n",
      "Processed images 20001-25000\n",
      "Processed images 25001-30000\n",
      "Processed images 30001-35000\n",
      "Processed images 35001-40000\n",
      "Processed images 40001-45000\n",
      "Processed images 45001-50000\n",
      "Processed images 50001-55000\n",
      "Processed images 55001-60000\n",
      "Finished preprocessing images.\n",
      "\n"
     ]
    },
    {
     "data": {
      "image/png": "[encoded data removed]",
      "text/plain": [
       "<Figure size 640x480 with 1 Axes>"
      ]
     },
     "metadata": {},
     "output_type": "display_data"
    },
    {
     "data": {
      "image/png": "[encoded data removed]",
      "text/plain": [
       "<Figure size 640x480 with 1 Axes>"
      ]
     },
     "metadata": {},
     "output_type": "display_data"
    },
    {
     "name": "stdout",
     "output_type": "stream",
     "text": [
      "Starting training and evaluation...\n",
      "Sampled data shape: (25000, 4096)\n",
      "Sampled data split: 15000 training, 5000 validation, 5000 testing samples\n",
      "Data standardized\n",
      "Training SVM model...\n",
      "SVM model trained\n",
      "Validating model...\n",
      "Validation Accuracy: 0.4604\n",
      "Validation Classification Report:\n",
      "              precision    recall  f1-score   support\n",
      "\n",
      "           1       0.42      0.55      0.48      1112\n",
      "           2       0.46      0.45      0.46      1193\n",
      "           3       0.47      0.50      0.48      1001\n",
      "           4       0.46      0.30      0.36      1104\n",
      "           5       0.51      0.58      0.54       405\n",
      "           6       0.65      0.47      0.55       185\n",
      "\n",
      "    accuracy                           0.46      5000\n",
      "   macro avg       0.50      0.47      0.48      5000\n",
      "weighted avg       0.46      0.46      0.46      5000\n",
      "\n",
      "Testing model...\n",
      "Test Accuracy: 0.478\n",
      "Test Classification Report:\n",
      "              precision    recall  f1-score   support\n",
      "\n",
      "           1       0.44      0.58      0.50      1125\n",
      "           2       0.46      0.45      0.46      1202\n",
      "           3       0.51      0.52      0.52      1037\n",
      "           4       0.46      0.32      0.38      1067\n",
      "           5       0.56      0.59      0.57       397\n",
      "           6       0.68      0.49      0.57       172\n",
      "\n",
      "    accuracy                           0.48      5000\n",
      "   macro avg       0.52      0.49      0.50      5000\n",
      "weighted avg       0.48      0.48      0.47      5000\n",
      "\n"
     ]
    }
   ],
   "source": [
    "# main function\n",
    "from sift_svm_local4_label_utils import load_labels, print_label_distribution\n",
    "from sift_svm_local4_image_utils import display_image, save_image_plot\n",
    "from sift_svm_local4_preprocessing import preprocess_images\n",
    "from sift_svm_local4_training_i import train_and_evaluate\n",
    "import numpy as np\n",
    "import random\n",
    "\n",
    "def display_random_images(images, num_images=5):\n",
    "    random_indices = random.sample(range(len(images)), num_images)\n",
    "    for i in random_indices:\n",
    "        display_image(images[i], title=f\"Random Image {i + 1}\")\n",
    "\n",
    "def main():\n",
    "    # Local directory paths\n",
    "    image_dir = 'cells'  # Directory containing images\n",
    "    mat_file = 'labels.mat'  # Labels file\n",
    "    num_images = 63445\n",
    "\n",
    "    # Load labels and preprocess images\n",
    "    labels = load_labels(mat_file, num_labels=num_images)\n",
    "    print_label_distribution(labels)\n",
    "    images = preprocess_images(image_dir, num_images)\n",
    "\n",
    "    # Display 2 random images from the dataset\n",
    "    display_random_images(images, num_images=2)\n",
    "\n",
    "    # Flatten the preprocessed images and create a feature matrix\n",
    "    X = np.array([image.flatten() for image in images])\n",
    "    y = np.array(labels)\n",
    "\n",
    "    # Train and evaluate the model\n",
    "    train_and_evaluate(X, y, sample_size=25000)\n",
    "\n",
    "if __name__ == \"__main__\":\n",
    "    main()\n"
   ]
  },
  {
   "cell_type": "markdown",
   "metadata": {},
   "source": [
    "Accuracy of .4604 on validation, and .478 on testing.  The best SIFT model tested was about .70.  The SIFT models that don't drop images test a little lower than this.  These are in other notebooks.  \n",
    "\n",
    "Here is the data set class distribution as listed in the result:\n",
    "\n",
    "Label Distribution:\n",
    "Label 1: 14367 (22.64%)\n",
    "Label 2: 14655 (23.10%)\n",
    "Label 3: 13257 (20.90%)\n",
    "Label 4: 13737 (21.65%)\n",
    "Label 5: 5086 (8.02%)\n",
    "Label 6: 2343 (3.69%)\n",
    "\n",
    "The metric scores for those last two labels are the higheest also, which have the least number of actual labels of them.  8 percent for label 5 and about 4 percent for label 6."
   ]
  }
 ],
 "metadata": {
  "kernelspec": {
   "display_name": "Python 3",
   "language": "python",
   "name": "python3"
  },
  "language_info": {
   "codemirror_mode": {
    "name": "ipython",
    "version": 3
   },
   "file_extension": ".py",
   "mimetype": "text/x-python",
   "name": "python",
   "nbconvert_exporter": "python",
   "pygments_lexer": "ipython3",
   "version": "3.11.9"
  }
 },
 "nbformat": 4,
 "nbformat_minor": 2
}
