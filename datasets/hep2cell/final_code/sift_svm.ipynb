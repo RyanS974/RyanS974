{
 "cells": [
  {
   "cell_type": "markdown",
   "metadata": {},
   "source": [
    "# SIFT and SVM"
   ]
  },
  {
   "cell_type": "markdown",
   "metadata": {},
   "source": [
    "SVM model with SIFT descriptors used in the training of the model.\n",
    "\n",
    "Run these code blocks in order, with the main function being at the last one.  The code blocks before are function definitions."
   ]
  },
  {
   "cell_type": "markdown",
   "metadata": {},
   "source": [
    "# Images Related Functions"
   ]
  },
  {
   "cell_type": "markdown",
   "metadata": {},
   "source": [
    "Functions for displaying images, and images with keypoints.  There is a function for saving images to disk as png files but it is not used in the code below."
   ]
  },
  {
   "cell_type": "code",
   "execution_count": 11,
   "metadata": {},
   "outputs": [],
   "source": [
    "# images related functions code\n",
    "import matplotlib.pyplot as plt\n",
    "import os\n",
    "import cv2\n",
    "import numpy as np\n",
    "import random\n",
    "\n",
    "def display_image(image, title=\"Image\"):\n",
    "    plt.imshow(image, cmap='gray')\n",
    "    plt.title(title)\n",
    "    plt.axis('off')  # Hide axis\n",
    "    plt.show()\n",
    "\n",
    "def save_image_plot(image, filename, save_dir='plot_outputs'):\n",
    "    os.makedirs(save_dir, exist_ok=True)\n",
    "    plt.figure()\n",
    "    plt.imshow(image, cmap='gray')\n",
    "    plt.title(filename)\n",
    "    plt.axis('off')\n",
    "    save_path = os.path.join(save_dir, f'{filename}.png')\n",
    "    plt.savefig(save_path)\n",
    "    plt.close()\n",
    "\n",
    "def display_image_with_keypoints(image, keypoints, title=\"Image with Keypoints\"):\n",
    "    # Ensure the image is in the correct range\n",
    "    image_uint8 = cv2.normalize(image, None, 0, 255, cv2.NORM_MINMAX).astype(np.uint8)\n",
    "    img_with_keypoints = cv2.drawKeypoints(image_uint8, keypoints, None, flags=cv2.DRAW_MATCHES_FLAGS_DRAW_RICH_KEYPOINTS)\n",
    "    plt.imshow(img_with_keypoints, cmap='gray')\n",
    "    plt.title(title)\n",
    "    plt.axis('off')\n",
    "    plt.show()\n",
    "\n",
    "def display_keypoints(images, keypoints_list, num_images=5):\n",
    "    valid_indices = [i for i, keypoints in enumerate(keypoints_list) if keypoints]\n",
    "    if len(valid_indices) < num_images:\n",
    "        num_images = len(valid_indices)\n",
    "    selected_indices = random.sample(valid_indices, num_images)\n",
    "    for i in selected_indices:\n",
    "        display_image_with_keypoints(images[i], keypoints_list[i], title=f\"Image {i + 1} with Keypoints\")\n"
   ]
  },
  {
   "cell_type": "markdown",
   "metadata": {},
   "source": [
    "# Label Loading"
   ]
  },
  {
   "cell_type": "code",
   "execution_count": 2,
   "metadata": {},
   "outputs": [],
   "source": [
    "# label related code\n",
    "import scipy.io\n",
    "import numpy as np\n",
    "\n",
    "def load_labels(mat_file, num_labels=63445):\n",
    "    print(\"Loading labels...\")\n",
    "    labels = scipy.io.loadmat(mat_file)['labels'].flatten()[:num_labels]\n",
    "    print(f\"Loaded {len(labels)} labels.\\n\")\n",
    "    return labels\n",
    "\n",
    "def print_label_distribution(labels):\n",
    "    unique, counts = np.unique(labels, return_counts=True)\n",
    "    total = len(labels)\n",
    "    print(\"Label Distribution:\")\n",
    "    for label, count in zip(unique, counts):\n",
    "        percentage = (count / total) * 100\n",
    "        print(f\"Label {label}: {count} ({percentage:.2f}%)\")\n"
   ]
  },
  {
   "cell_type": "markdown",
   "metadata": {},
   "source": [
    "# Preprocessing"
   ]
  },
  {
   "cell_type": "markdown",
   "metadata": {},
   "source": [
    "Some main concepts of the preprocessing are of image sizes 64 x 64, normalized pixel values of between 0-1, and Grayscale."
   ]
  },
  {
   "cell_type": "code",
   "execution_count": 3,
   "metadata": {},
   "outputs": [],
   "source": [
    "# preprocessing code\n",
    "import cv2\n",
    "import numpy as np\n",
    "import os\n",
    "\n",
    "def preprocess_images(image_dir, num_images):\n",
    "    print(\"Preprocessing images...\")\n",
    "    images = []\n",
    "    for i in range(1, num_images + 1):\n",
    "        img_path = os.path.join(image_dir, f\"{i}.png\")\n",
    "        if not os.path.exists(img_path):\n",
    "            print(f\"Warning: Image {img_path} not found\")\n",
    "            continue\n",
    "\n",
    "        image = cv2.imread(img_path, cv2.IMREAD_GRAYSCALE)\n",
    "        image = cv2.resize(image, (64, 64))\n",
    "        image = image / 255.0\n",
    "        images.append(image)\n",
    "\n",
    "        if i % 5000 == 0:\n",
    "            print(f\"Processed images {i-4999}-{i}\")\n",
    "    \n",
    "    print(\"Finished preprocessing images.\\n\")\n",
    "    return np.array(images)\n"
   ]
  },
  {
   "cell_type": "markdown",
   "metadata": {},
   "source": [
    "# SIFT Extraction"
   ]
  },
  {
   "cell_type": "markdown",
   "metadata": {},
   "source": [
    "SIFT extraction code for extracting keypoints and descriptors.  This is covered more later also.  Descriptors are used in the SVM model, with the descriptors being based on the keypoints. We will go over some statistics on keypoints though later, including keypoints overlayed on images for visualization purposes."
   ]
  },
  {
   "cell_type": "code",
   "execution_count": 4,
   "metadata": {},
   "outputs": [],
   "source": [
    "# SIFT related code\n",
    "import cv2\n",
    "import numpy as np\n",
    "import matplotlib.pyplot as plt\n",
    "from sift_svm_local4_image_utils import display_image_with_keypoints\n",
    "\n",
    "def extract_sift_features(images, max_features=500):\n",
    "    print(\"Extracting SIFT features...\")\n",
    "    sift = cv2.SIFT_create()\n",
    "    all_descriptors = []\n",
    "    keypoints_list = []\n",
    "    valid_images = 0\n",
    "    \n",
    "    for i, image in enumerate(images):\n",
    "        image_uint8 = (image * 255).astype(np.uint8)\n",
    "        keypoints, descriptors = sift.detectAndCompute(image_uint8, None)\n",
    "        \n",
    "        if keypoints and descriptors is not None:\n",
    "            keypoints_list.append(keypoints)\n",
    "            if descriptors.shape[0] < max_features:\n",
    "                padded_descriptor = np.zeros((max_features, 128))\n",
    "                padded_descriptor[:descriptors.shape[0], :] = descriptors\n",
    "                all_descriptors.append(padded_descriptor)\n",
    "            else:\n",
    "                all_descriptors.append(descriptors[:max_features, :])\n",
    "            valid_images += 1\n",
    "        else:\n",
    "            keypoints_list.append([])\n",
    "            padded_descriptor = np.zeros((max_features, 128))\n",
    "            all_descriptors.append(padded_descriptor)\n",
    "        \n",
    "        if (i + 1) % 10000 == 0:\n",
    "            print(f\"Processed SIFT features for {i + 1}/{len(images)} images\")\n",
    "\n",
    "    print(f\"SIFT feature extraction completed. Valid images with features: {valid_images}/{len(images)}\\n\")\n",
    "    return all_descriptors, keypoints_list\n",
    "\n",
    "def get_keypoint_statistics(keypoints_list):\n",
    "    num_keypoints = [len(kp) for kp in keypoints_list if len(kp) > 0]\n",
    "    avg_keypoints = np.mean(num_keypoints)\n",
    "    max_keypoints = np.max(num_keypoints)\n",
    "    min_keypoints = np.min(num_keypoints)\n",
    "    return avg_keypoints, max_keypoints, min_keypoints\n",
    "\n",
    "def display_keypoints(images, keypoints_list, num_images=5):\n",
    "    for i in range(min(num_images, len(images))):\n",
    "        display_image_with_keypoints(images[i], keypoints_list[i], title=f\"Image {i + 1} with Keypoints\")\n"
   ]
  },
  {
   "cell_type": "markdown",
   "metadata": {},
   "source": [
    "# Dataset Splitting, Model Building, Training, Validation, and Testing Code"
   ]
  },
  {
   "cell_type": "code",
   "execution_count": 5,
   "metadata": {},
   "outputs": [],
   "source": [
    "# dataset splitting, model building, training, validation and testing code\n",
    "import numpy as np\n",
    "from sklearn.model_selection import train_test_split\n",
    "from sklearn.svm import SVC\n",
    "from sklearn.metrics import accuracy_score, classification_report\n",
    "from sklearn.preprocessing import StandardScaler\n",
    "\n",
    "def print_label_distribution(labels):\n",
    "    unique, counts = np.unique(labels, return_counts=True)\n",
    "    total = len(labels)\n",
    "    print(\"Label Distribution:\")\n",
    "    for label, count in zip(unique, counts):\n",
    "        percentage = (count / total) * 100\n",
    "        print(f\"Label {label}: {count} ({percentage:.2f}%)\")\n",
    "\n",
    "def train_and_evaluate(X, y, sample_size=10000):\n",
    "    print(\"Starting training and evaluation...\")\n",
    "\n",
    "    # Convert to float32 to save memory\n",
    "    X = X.astype(np.float32)\n",
    "\n",
    "    # Sample 10,000 images directly from the original dataset\n",
    "    X_sampled, _, y_sampled, _ = train_test_split(X, y, train_size=sample_size, random_state=42)\n",
    "    print(f\"Sampled data shape: {X_sampled.shape}\")\n",
    "\n",
    "    # Print label distribution of the sampled data\n",
    "    print(\"Label distribution in sampled data:\")\n",
    "    print_label_distribution(y_sampled)\n",
    "\n",
    "    # Split the sampled data into new training, validation, and testing datasets\n",
    "    X_train, X_temp, y_train, y_temp = train_test_split(X_sampled, y_sampled, test_size=0.4, random_state=42)\n",
    "    X_val, X_test, y_val, y_test = train_test_split(X_temp, y_temp, test_size=0.5, random_state=42)\n",
    "\n",
    "    print(f\"Sampled data split: {len(X_train)} training, {len(X_val)} validation, {len(X_test)} testing samples\")\n",
    "\n",
    "    # Print label distribution of the training, validation, and testing datasets\n",
    "    print(\"Label distribution in training data:\")\n",
    "    print_label_distribution(y_train)\n",
    "    print(\"Label distribution in validation data:\")\n",
    "    print_label_distribution(y_val)\n",
    "    print(\"Label distribution in testing data:\")\n",
    "    print_label_distribution(y_test)\n",
    "\n",
    "    # Standardize the features\n",
    "    scaler = StandardScaler()\n",
    "    X_train = scaler.fit_transform(X_train)\n",
    "    X_val = scaler.transform(X_val)\n",
    "    X_test = scaler.transform(X_test)\n",
    "\n",
    "    print(\"Data standardized\")\n",
    "\n",
    "    # Build and train the SVM model\n",
    "    svm_model = SVC(kernel='linear')\n",
    "    print(\"Training SVM model...\")\n",
    "    svm_model.fit(X_train, y_train)\n",
    "    print(\"SVM model trained\")\n",
    "\n",
    "    # Validate the model\n",
    "    print(\"Validating model...\")\n",
    "    y_val_pred = svm_model.predict(X_val)\n",
    "    val_accuracy = accuracy_score(y_val, y_val_pred)\n",
    "    print(f\"Validation Accuracy: {val_accuracy}\")\n",
    "    print(\"Validation Classification Report:\")\n",
    "    print(classification_report(y_val, y_val_pred))\n",
    "\n",
    "    # Test the model\n",
    "    print(\"Testing model...\")\n",
    "    y_test_pred = svm_model.predict(X_test)\n",
    "    test_accuracy = accuracy_score(y_test, y_test_pred)\n",
    "    print(f\"Test Accuracy: {test_accuracy}\")\n",
    "    print(\"Test Classification Report:\")\n",
    "    print(classification_report(y_test, y_test_pred))\n"
   ]
  },
  {
   "cell_type": "markdown",
   "metadata": {},
   "source": [
    "# Function for Displaying Random Images"
   ]
  },
  {
   "cell_type": "markdown",
   "metadata": {},
   "source": [
    "A function for displaying random images.  We will use this to display a basic image, along with ones with keypoints.  You can change the num_images to any number of images you want.  It is set to 2 currently."
   ]
  },
  {
   "cell_type": "code",
   "execution_count": null,
   "metadata": {},
   "outputs": [],
   "source": [
    "def display_random_images(images, num_images=2):\n",
    "    random_indices = random.sample(range(len(images)), num_images)\n",
    "    for i in random_indices:\n",
    "        display_image(images[i], title=f\"Random Image {i + 1}\")"
   ]
  },
  {
   "cell_type": "markdown",
   "metadata": {},
   "source": [
    "# Function Calling"
   ]
  },
  {
   "cell_type": "markdown",
   "metadata": {},
   "source": [
    "Below we will call the various functions we have defined above."
   ]
  },
  {
   "cell_type": "markdown",
   "metadata": {},
   "source": [
    "## Labels and Image Preprocessing"
   ]
  },
  {
   "cell_type": "markdown",
   "metadata": {},
   "source": [
    "Below we will set some variables related to loading the labels, and then call the preprocess_images function to preprocess the images.  This function will create our feature matrix from the dataset.  We will then later split this feature matrix."
   ]
  },
  {
   "cell_type": "code",
   "execution_count": 14,
   "metadata": {},
   "outputs": [
    {
     "name": "stdout",
     "output_type": "stream",
     "text": [
      "Loading labels...\n",
      "Loaded 63445 labels.\n",
      "\n",
      "Label Distribution:\n",
      "Label 1: 14367 (22.64%)\n",
      "Label 2: 14655 (23.10%)\n",
      "Label 3: 13257 (20.90%)\n",
      "Label 4: 13737 (21.65%)\n",
      "Label 5: 5086 (8.02%)\n",
      "Label 6: 2343 (3.69%)\n",
      "Preprocessing images...\n",
      "Processed images 1-5000\n",
      "Processed images 5001-10000\n",
      "Processed images 10001-15000\n",
      "Processed images 15001-20000\n",
      "Processed images 20001-25000\n",
      "Processed images 25001-30000\n",
      "Processed images 30001-35000\n",
      "Processed images 35001-40000\n",
      "Processed images 40001-45000\n",
      "Processed images 45001-50000\n",
      "Processed images 50001-55000\n",
      "Processed images 55001-60000\n",
      "Finished preprocessing images.\n",
      "\n"
     ]
    }
   ],
   "source": [
    "# Local directory paths\n",
    "image_dir = 'cells'  # Directory containing images\n",
    "mat_file = 'labels.mat'  # Labels file\n",
    "num_images = 63445\n",
    "\n",
    "# Load labels and preprocess images\n",
    "labels = load_labels(mat_file, num_labels=num_images)\n",
    "print_label_distribution(labels)\n",
    "images = preprocess_images(image_dir, num_images)"
   ]
  },
  {
   "cell_type": "markdown",
   "metadata": {},
   "source": [
    "We see our label distribution above.  Classes 1 to 4 have similar numbers, about 20 percent each.  Classes 5 and 6 have much less, with them being about 8 percent and about 4 percent."
   ]
  },
  {
   "cell_type": "markdown",
   "metadata": {},
   "source": [
    "## Display a Few Images"
   ]
  },
  {
   "cell_type": "markdown",
   "metadata": {},
   "source": [
    "We will display a few images to show the kind of dataset we are working with.  Later we will show a few with keypoints overlayed. "
   ]
  },
  {
   "cell_type": "code",
   "execution_count": 16,
   "metadata": {},
   "outputs": [
    {
     "data": {
      "image/png": "[encoded data removed]",
      "text/plain": [
       "<Figure size 640x480 with 1 Axes>"
      ]
     },
     "metadata": {},
     "output_type": "display_data"
    },
    {
     "data": {
      "image/png": "[encoded data removed]",
      "text/plain": [
       "<Figure size 640x480 with 1 Axes>"
      ]
     },
     "metadata": {},
     "output_type": "display_data"
    }
   ],
   "source": [
    "# Display 2 random images from the dataset\n",
    "display_random_images(images, num_images=2)"
   ]
  },
  {
   "cell_type": "markdown",
   "metadata": {},
   "source": [
    "These two randomly displayed images are just for information purposes to show the dataset images.  Below we will randomly select two more to display the keypoints on them."
   ]
  },
  {
   "cell_type": "markdown",
   "metadata": {},
   "source": [
    "## SIFT Feature Extraction"
   ]
  },
  {
   "cell_type": "code",
   "execution_count": 17,
   "metadata": {},
   "outputs": [
    {
     "name": "stdout",
     "output_type": "stream",
     "text": [
      "Extracting SIFT features...\n",
      "Processed SIFT features for 10000/63445 images\n",
      "Processed SIFT features for 20000/63445 images\n",
      "Processed SIFT features for 30000/63445 images\n",
      "Processed SIFT features for 40000/63445 images\n",
      "Processed SIFT features for 50000/63445 images\n",
      "Processed SIFT features for 60000/63445 images\n",
      "SIFT feature extraction completed. Valid images with features: 30115/63445\n",
      "\n"
     ]
    }
   ],
   "source": [
    "# Extract SIFT features\n",
    "image_features, keypoints_list = extract_sift_features(images)"
   ]
  },
  {
   "cell_type": "markdown",
   "metadata": {},
   "source": [
    "Almost half of our 63,000 images have extracted SIFT features.\n",
    "\n",
    "Keypoints are specific points in an image that are considered to be interesting or distinctive. These points are typically corners, edges, or blobs that are invariant to scale and rotation. In the context of SIFT (Scale-Invariant Feature Transform), keypoints are detected using a difference of Gaussian approach, and each keypoint has attributes such as:\n",
    "\n",
    "Location (x, y coordinates)\n",
    "Scale (size of the keypoint)\n",
    "Orientation (direction of the keypoint)\n",
    "\n",
    "When we display keypoints on an image, we are visualizing these distinctive points, often with circles or arrows indicating their scale and orientation.\n",
    "\n",
    "Descriptors are vectors that describe the local appearance around each keypoint. In SIFT, a descriptor is a 128-dimensional vector that captures the gradient information around the keypoint in a way that is invariant to scale, rotation, and illumination changes. These descriptors are used to match keypoints between different images."
   ]
  },
  {
   "cell_type": "markdown",
   "metadata": {},
   "source": [
    "## Example Keypoint and Descriptor"
   ]
  },
  {
   "cell_type": "code",
   "execution_count": 18,
   "metadata": {},
   "outputs": [
    {
     "name": "stdout",
     "output_type": "stream",
     "text": [
      "Example keypoint from image 79: < cv2.KeyPoint 0x172ded2f0>\n",
      "Example descriptor from image 79: [  3.   0.   0.   0.   0.   0.   0.  11.  22.   0.   0.   0.   0.   0.\n",
      "  19. 106.  73.   0.   0.   0.   0.   2.  34. 104.  52.   1.   0.   0.\n",
      "   2.  17.  16.  32.  65.   1.   0.   0.   0.   0.   0.  47. 133.  18.\n",
      "   3.   3.   2.  10.  93. 133.  21.   5.   5.  31.  52. 114. 133.  79.\n",
      "  51.  32.   4.   8.  13.  17.   7.   6.  76.  15.   0.   0.   0.   0.\n",
      "   0.   9. 133. 133.  95.  22.   2.   3.   6.  39.  12.  39. 133. 133.\n",
      "  56.  26.   9.   9.   4.  89.  51.  40.  11.   2.   0.   0.   3.   2.\n",
      "   0.   0.   0.   0.   0.   0.   7.  43.  49.   6.   0.   0.   0.   0.\n",
      "   0.   9. 111.  43.   0.   0.   0.   0.   0.  42.  73.   4.   0.   0.\n",
      "   0.   0.]\n"
     ]
    }
   ],
   "source": [
    "# Print one example keypoint and one example descriptor\n",
    "for i, keypoints in enumerate(keypoints_list):\n",
    "    if keypoints:\n",
    "        print(f\"Example keypoint from image {i + 1}: {keypoints[0]}\")\n",
    "        print(f\"Example descriptor from image {i + 1}: {image_features[i][0]}\")\n",
    "        break"
   ]
  },
  {
   "cell_type": "markdown",
   "metadata": {},
   "source": [
    "Above is an example keypoint and descriptor, to show what they technically look like."
   ]
  },
  {
   "cell_type": "markdown",
   "metadata": {},
   "source": [
    "## Keypoint Stats"
   ]
  },
  {
   "cell_type": "code",
   "execution_count": 19,
   "metadata": {},
   "outputs": [
    {
     "name": "stdout",
     "output_type": "stream",
     "text": [
      "Average number of keypoints: 7.649211356466877\n",
      "Maximum number of keypoints: 59\n",
      "Minimum number of keypoints: 1\n"
     ]
    }
   ],
   "source": [
    "# Get keypoint statistics\n",
    "avg_keypoints, max_keypoints, min_keypoints = get_keypoint_statistics(keypoints_list)\n",
    "print(f\"Average number of keypoints: {avg_keypoints}\")\n",
    "print(f\"Maximum number of keypoints: {max_keypoints}\")\n",
    "print(f\"Minimum number of keypoints: {min_keypoints}\")"
   ]
  },
  {
   "cell_type": "markdown",
   "metadata": {},
   "source": [
    "Of our 30,000 SIFT feature images, the average number of keypoints per image is about 8.  The highest keypoint image has 59 keypoints, and the lowest is 1."
   ]
  },
  {
   "cell_type": "markdown",
   "metadata": {},
   "source": [
    "## Keypoint Overlay Display"
   ]
  },
  {
   "cell_type": "code",
   "execution_count": 57,
   "metadata": {},
   "outputs": [
    {
     "data": {
      "image/png": "[encoded data removed]",
      "text/plain": [
       "<Figure size 640x480 with 1 Axes>"
      ]
     },
     "metadata": {},
     "output_type": "display_data"
    },
    {
     "data": {
      "image/png": "[encoded data removed]",
      "text/plain": [
       "<Figure size 640x480 with 1 Axes>"
      ]
     },
     "metadata": {},
     "output_type": "display_data"
    }
   ],
   "source": [
    "# Display keypoints on a few images\n",
    "display_keypoints(images, keypoints_list, num_images=2)"
   ]
  },
  {
   "cell_type": "markdown",
   "metadata": {},
   "source": [
    "This is randomly selected two images.  Some of the images don't have keypoints.  If you run the code block above it will randomly select two, and if you don't get one or two with keypoints keep running the code block.  You will be able to get two to show up like above.\n",
    "\n",
    "As a side note on our SVM model with SIFT, it uses descriptors, not keypoints.  Descriptors are based on keypoints."
   ]
  },
  {
   "cell_type": "markdown",
   "metadata": {},
   "source": [
    "## Flatten the Descriptors"
   ]
  },
  {
   "cell_type": "markdown",
   "metadata": {},
   "source": [
    "This is a process of converting the data type to a 1 dimensional array."
   ]
  },
  {
   "cell_type": "code",
   "execution_count": null,
   "metadata": {},
   "outputs": [],
   "source": [
    "# Flatten the list of descriptors\n",
    "X = np.array([desc.flatten() for desc in image_features])\n",
    "y = np.array(labels)"
   ]
  },
  {
   "cell_type": "markdown",
   "metadata": {},
   "source": [
    "## Split, Train, Validate, and Test the Model"
   ]
  },
  {
   "cell_type": "code",
   "execution_count": null,
   "metadata": {},
   "outputs": [
    {
     "name": "stdout",
     "output_type": "stream",
     "text": [
      "Starting training and evaluation...\n",
      "Sampled data shape: (10000, 64000)\n",
      "Label distribution in sampled data:\n",
      "Label Distribution:\n",
      "Label 1: 2286 (22.86%)\n",
      "Label 2: 2371 (23.71%)\n",
      "Label 3: 2046 (20.46%)\n",
      "Label 4: 2106 (21.06%)\n",
      "Label 5: 827 (8.27%)\n",
      "Label 6: 364 (3.64%)\n",
      "Sampled data split: 6000 training, 2000 validation, 2000 testing samples\n",
      "Label distribution in training data:\n",
      "Label Distribution:\n",
      "Label 1: 1381 (23.02%)\n",
      "Label 2: 1422 (23.70%)\n",
      "Label 3: 1240 (20.67%)\n",
      "Label 4: 1248 (20.80%)\n",
      "Label 5: 491 (8.18%)\n",
      "Label 6: 218 (3.63%)\n",
      "Label distribution in validation data:\n",
      "Label Distribution:\n",
      "Label 1: 454 (22.70%)\n",
      "Label 2: 493 (24.65%)\n",
      "Label 3: 405 (20.25%)\n",
      "Label 4: 422 (21.10%)\n",
      "Label 5: 151 (7.55%)\n",
      "Label 6: 75 (3.75%)\n",
      "Label distribution in testing data:\n",
      "Label Distribution:\n",
      "Label 1: 451 (22.55%)\n",
      "Label 2: 456 (22.80%)\n",
      "Label 3: 401 (20.05%)\n",
      "Label 4: 436 (21.80%)\n",
      "Label 5: 185 (9.25%)\n",
      "Label 6: 71 (3.55%)\n",
      "Data standardized\n",
      "Training SVM model...\n",
      "SVM model trained\n",
      "Validating model...\n",
      "Validation Accuracy: 0.3985\n",
      "Validation Classification Report:\n",
      "              precision    recall  f1-score   support\n",
      "\n",
      "           1       0.33      0.93      0.48       454\n",
      "           2       0.35      0.14      0.20       493\n",
      "           3       0.58      0.29      0.39       405\n",
      "           4       0.66      0.43      0.52       422\n",
      "           5       0.22      0.03      0.05       151\n",
      "           6       0.26      0.09      0.14        75\n",
      "\n",
      "    accuracy                           0.40      2000\n",
      "   macro avg       0.40      0.32      0.30      2000\n",
      "weighted avg       0.44      0.40      0.36      2000\n",
      "\n",
      "Testing model...\n",
      "Test Accuracy: 0.39\n",
      "Test Classification Report:\n",
      "              precision    recall  f1-score   support\n",
      "\n",
      "           1       0.32      0.92      0.48       451\n",
      "           2       0.32      0.14      0.19       456\n",
      "           3       0.53      0.25      0.34       401\n",
      "           4       0.69      0.42      0.52       436\n",
      "           5       0.31      0.03      0.05       185\n",
      "           6       0.27      0.17      0.21        71\n",
      "\n",
      "    accuracy                           0.39      2000\n",
      "   macro avg       0.41      0.32      0.30      2000\n",
      "weighted avg       0.44      0.39      0.35      2000\n",
      "\n"
     ]
    },
    {
     "ename": "",
     "evalue": "",
     "output_type": "error",
     "traceback": [
      "\u001b[1;31mThe Kernel crashed while executing code in the current cell or a previous cell. \n",
      "\u001b[1;31mPlease review the code in the cell(s) to identify a possible cause of the failure. \n",
      "\u001b[1;31mClick <a href='https://aka.ms/vscodeJupyterKernelCrash'>here</a> for more info. \n",
      "\u001b[1;31mView Jupyter <a href='command:jupyter.viewOutput'>log</a> for further details."
     ]
    }
   ],
   "source": [
    "# Train and evaluate the model\n",
    "train_and_evaluate(X, y)"
   ]
  },
  {
   "cell_type": "markdown",
   "metadata": {},
   "source": [
    "We have about a .39 percent accuracy for both validation and testing.  The model we are using is not dropping images that don't have SIFT features.  We will try a model that does in another notebook, which gives a .70 percent accuracy. "
   ]
  }
 ],
 "metadata": {
  "kernelspec": {
   "display_name": "Python 3",
   "language": "python",
   "name": "python3"
  },
  "language_info": {
   "codemirror_mode": {
    "name": "ipython",
    "version": 3
   },
   "file_extension": ".py",
   "mimetype": "text/x-python",
   "name": "python",
   "nbconvert_exporter": "python",
   "pygments_lexer": "ipython3",
   "version": "3.11.9"
  }
 },
 "nbformat": 4,
 "nbformat_minor": 2
}
