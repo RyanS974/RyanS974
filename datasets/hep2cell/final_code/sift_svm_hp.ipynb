{
 "cells": [
  {
   "cell_type": "markdown",
   "metadata": {},
   "source": [
    "# SIFT and SVM with Hyperparameter Tuning and Image Drops"
   ]
  },
  {
   "cell_type": "markdown",
   "metadata": {},
   "source": [
    "SIFT and SVM with hyperparameter tuning and dropping of images."
   ]
  },
  {
   "cell_type": "markdown",
   "metadata": {},
   "source": [
    "# Images Related Functions"
   ]
  },
  {
   "cell_type": "markdown",
   "metadata": {},
   "source": [
    "Functions for displaying images, and images with keypoints.  There is a function for saving images to disk as png files but it is not used in the code below."
   ]
  },
  {
   "cell_type": "code",
   "execution_count": 1,
   "metadata": {},
   "outputs": [],
   "source": [
    "# images related functions code\n",
    "import matplotlib.pyplot as plt\n",
    "import os\n",
    "import cv2\n",
    "import numpy as np\n",
    "import random\n",
    "\n",
    "def display_image(image, title=\"Image\"):\n",
    "    plt.imshow(image, cmap='gray')\n",
    "    plt.title(title)\n",
    "    plt.axis('off')  # Hide axis\n",
    "    plt.show()\n",
    "\n",
    "def save_image_plot(image, filename, save_dir='plot_outputs'):\n",
    "    os.makedirs(save_dir, exist_ok=True)\n",
    "    plt.figure()\n",
    "    plt.imshow(image, cmap='gray')\n",
    "    plt.title(filename)\n",
    "    plt.axis('off')\n",
    "    save_path = os.path.join(save_dir, f'{filename}.png')\n",
    "    plt.savefig(save_path)\n",
    "    plt.close()\n",
    "\n",
    "def display_image_with_keypoints(image, keypoints, title=\"Image with Keypoints\"):\n",
    "    # Ensure the image is in the correct range\n",
    "    image_uint8 = cv2.normalize(image, None, 0, 255, cv2.NORM_MINMAX).astype(np.uint8)\n",
    "    img_with_keypoints = cv2.drawKeypoints(image_uint8, keypoints, None, flags=cv2.DRAW_MATCHES_FLAGS_DRAW_RICH_KEYPOINTS)\n",
    "    plt.imshow(img_with_keypoints, cmap='gray')\n",
    "    plt.title(title)\n",
    "    plt.axis('off')\n",
    "    plt.show()\n",
    "\n",
    "def display_keypoints(images, keypoints_list, num_images=5):\n",
    "    valid_indices = [i for i, keypoints in enumerate(keypoints_list) if keypoints]\n",
    "    if len(valid_indices) < num_images:\n",
    "        num_images = len(valid_indices)\n",
    "    selected_indices = random.sample(valid_indices, num_images)\n",
    "    for i in selected_indices:\n",
    "        display_image_with_keypoints(images[i], keypoints_list[i], title=f\"Image {i + 1} with Keypoints\")"
   ]
  },
  {
   "cell_type": "markdown",
   "metadata": {},
   "source": [
    "# Label Loading"
   ]
  },
  {
   "cell_type": "code",
   "execution_count": 2,
   "metadata": {},
   "outputs": [],
   "source": [
    "# label related code\n",
    "import scipy.io\n",
    "import numpy as np\n",
    "\n",
    "def load_labels(mat_file, num_labels=63445):\n",
    "    print(\"Loading labels...\")\n",
    "    labels = scipy.io.loadmat(mat_file)['labels'].flatten()[:num_labels]\n",
    "    print(f\"Loaded {len(labels)} labels.\\n\")\n",
    "    return labels\n",
    "\n",
    "def print_label_distribution(labels):\n",
    "    unique, counts = np.unique(labels, return_counts=True)\n",
    "    total = len(labels)\n",
    "    print(\"Label Distribution:\")\n",
    "    for label, count in zip(unique, counts):\n",
    "        percentage = (count / total) * 100\n",
    "        print(f\"Label {label}: {count} ({percentage:.2f}%)\")"
   ]
  },
  {
   "cell_type": "markdown",
   "metadata": {},
   "source": [
    "# Preprocessing"
   ]
  },
  {
   "cell_type": "markdown",
   "metadata": {},
   "source": [
    "Some main concepts of the preprocessing are of image sizes 64 x 64, normalized pixel values of between 0-1, and Grayscale."
   ]
  },
  {
   "cell_type": "code",
   "execution_count": 3,
   "metadata": {},
   "outputs": [],
   "source": [
    "# preprocessing code\n",
    "import cv2\n",
    "import numpy as np\n",
    "import os\n",
    "\n",
    "def preprocess_images(image_dir, num_images):\n",
    "    print(\"Preprocessing images...\")\n",
    "    images = []\n",
    "    for i in range(1, num_images + 1):\n",
    "        img_path = os.path.join(image_dir, f\"{i}.png\")\n",
    "        if not os.path.exists(img_path):\n",
    "            print(f\"Warning: Image {img_path} not found\")\n",
    "            continue\n",
    "\n",
    "        image = cv2.imread(img_path, cv2.IMREAD_GRAYSCALE)\n",
    "        image = cv2.resize(image, (64, 64))\n",
    "        image = image / 255.0\n",
    "        images.append(image)\n",
    "\n",
    "        if i % 5000 == 0:\n",
    "            print(f\"Processed images {i-4999}-{i}\")\n",
    "    \n",
    "    print(\"Finished preprocessing images.\\n\")\n",
    "    return np.array(images)"
   ]
  },
  {
   "cell_type": "markdown",
   "metadata": {},
   "source": [
    "# SIFT Extraction"
   ]
  },
  {
   "cell_type": "markdown",
   "metadata": {},
   "source": [
    "SIFT extraction code."
   ]
  },
  {
   "cell_type": "code",
   "execution_count": 4,
   "metadata": {},
   "outputs": [],
   "source": [
    "import cv2\n",
    "import numpy as np\n",
    "import matplotlib.pyplot as plt\n",
    "from sift_svm_local4_image_utils import display_image_with_keypoints\n",
    "\n",
    "def extract_sift_features(images, max_features=500):\n",
    "    print(\"Extracting SIFT features...\")\n",
    "    sift = cv2.SIFT_create()\n",
    "    all_descriptors = []\n",
    "    keypoints_list = []\n",
    "    valid_images = 0\n",
    "    \n",
    "    for i, image in enumerate(images):\n",
    "        image_uint8 = (image * 255).astype(np.uint8)\n",
    "        keypoints, descriptors = sift.detectAndCompute(image_uint8, None)\n",
    "        \n",
    "        if keypoints and descriptors is not None:\n",
    "            keypoints_list.append(keypoints)\n",
    "            if descriptors.shape[0] < max_features:\n",
    "                padded_descriptor = np.zeros((max_features, 128))\n",
    "                padded_descriptor[:descriptors.shape[0], :] = descriptors\n",
    "                all_descriptors.append(padded_descriptor)\n",
    "            else:\n",
    "                all_descriptors.append(descriptors[:max_features, :])\n",
    "            valid_images += 1\n",
    "        else:\n",
    "            # Skip images without descriptors\n",
    "            continue\n",
    "        \n",
    "        if (i + 1) % 1000 == 0:\n",
    "            print(f\"Processed SIFT features for {i + 1}/{len(images)} images\")\n",
    "\n",
    "    print(f\"SIFT feature extraction completed. Valid images with features: {valid_images}/{len(images)}\\n\")\n",
    "    return all_descriptors, keypoints_list\n",
    "\n",
    "def get_keypoint_statistics(keypoints_list):\n",
    "    num_keypoints = [len(kp) for kp in keypoints_list if len(kp) > 0]\n",
    "    avg_keypoints = np.mean(num_keypoints)\n",
    "    max_keypoints = np.max(num_keypoints)\n",
    "    min_keypoints = np.min(num_keypoints)\n",
    "    return avg_keypoints, max_keypoints, min_keypoints\n",
    "\n",
    "def display_keypoints(images, keypoints_list, num_images):\n",
    "    for i in range(min(num_images, len(images))):\n",
    "        display_image_with_keypoints(images[i], keypoints_list[i], title=f\"Image {i + 1} with Keypoints\")\n"
   ]
  },
  {
   "cell_type": "markdown",
   "metadata": {},
   "source": [
    "# Model Building with Hyperparameters"
   ]
  },
  {
   "cell_type": "markdown",
   "metadata": {},
   "source": [
    "Below is the code mainly to split the data, build the model, set some hyperparameters, train the model, validate it, and then test it."
   ]
  },
  {
   "cell_type": "code",
   "execution_count": null,
   "metadata": {},
   "outputs": [],
   "source": [
    "import numpy as np\n",
    "from sklearn.model_selection import train_test_split, GridSearchCV\n",
    "from sklearn.svm import SVC\n",
    "from sklearn.metrics import accuracy_score, classification_report\n",
    "from sklearn.preprocessing import StandardScaler\n",
    "\n",
    "def train_and_evaluate(X, y, sample_size=1000):\n",
    "    print(\"Starting training and evaluation...\")\n",
    "\n",
    "    # Convert to float32 to save memory\n",
    "    X = X.astype(np.float32)\n",
    "\n",
    "    # Sample 1,000 images directly from the original dataset\n",
    "    X_sampled, _, y_sampled, _ = train_test_split(X, y, train_size=sample_size, random_state=42)\n",
    "    print(f\"Sampled data shape: {X_sampled.shape}\")\n",
    "\n",
    "    # Split the sampled data into new training, validation, and testing datasets\n",
    "    X_train, X_temp, y_train, y_temp = train_test_split(X_sampled, y_sampled, test_size=0.4, random_state=42)\n",
    "    X_val, X_test, y_val, y_test = train_test_split(X_temp, y_temp, test_size=0.5, random_state=42)\n",
    "\n",
    "    print(f\"Sampled data shape: {y_sampled.shape}\")\n",
    "\n",
    "    print(f\"Sampled data split: {len(X_train)} training, {len(X_val)} validation, {len(X_test)} testing samples\")\n",
    "\n",
    "    # Standardize the features\n",
    "    scaler = StandardScaler()\n",
    "    X_train = scaler.fit_transform(X_train)\n",
    "    X_val = scaler.transform(X_val)\n",
    "    X_test = scaler.transform(X_test)\n",
    "\n",
    "    print(\"Data standardized\")\n",
    "\n",
    "    # Define the parameter grid\n",
    "    param_grid = {\n",
    "        'C': [0.1, 1, 10, 100],\n",
    "        'gamma': [1, 0.1, 0.01, 0.001],\n",
    "        'kernel': ['rbf', 'poly', 'sigmoid']\n",
    "    }\n",
    "\n",
    "    # Initialize the SVM model\n",
    "    svm_model = SVC()\n",
    "\n",
    "    # Perform grid search with cross-validation\n",
    "    grid_search = GridSearchCV(svm_model, param_grid, refit=True, verbose=2, cv=3)\n",
    "    print(\"Performing grid search...\")\n",
    "    grid_search.fit(X_train, y_train)\n",
    "    print(\"Grid search completed\")\n",
    "\n",
    "    # Get the best parameters and model\n",
    "    best_params = grid_search.best_params_\n",
    "    best_model = grid_search.best_estimator_\n",
    "    print(f\"Best parameters found: {best_params}\")\n",
    "\n",
    "    # Validate the model\n",
    "    print(\"Validating model...\")\n",
    "    y_val_pred = best_model.predict(X_val)\n",
    "    val_accuracy = accuracy_score(y_val, y_val_pred)\n",
    "    print(f\"Validation Accuracy: {val_accuracy}\")\n",
    "    print(\"Validation Classification Report:\")\n",
    "    print(classification_report(y_val, y_val_pred))\n",
    "\n",
    "    # Test the model\n",
    "    print(\"Testing model...\")\n",
    "    y_test_pred = best_model.predict(X_test)\n",
    "    test_accuracy = accuracy_score(y_test, y_test_pred)\n",
    "    print(f\"Test Accuracy: {test_accuracy}\")\n",
    "    print(\"Test Classification Report:\")\n",
    "    print(classification_report(y_test, y_test_pred))\n"
   ]
  },
  {
   "cell_type": "markdown",
   "metadata": {},
   "source": [
    "Here is our parameter grid for the GridSearch:\n",
    "\n",
    " # Define the parameter grid\n",
    "    param_grid = {\n",
    "        'C': [0.1, 1, 10, 100],\n",
    "        'gamma': [1, 0.1, 0.01, 0.001],\n",
    "        'kernel': ['rbf', 'poly', 'sigmoid']\n",
    "    }\n",
    "\n",
    "What this does is go through about 140 different combinations of these hyperparameters, and then picks the best setting."
   ]
  },
  {
   "cell_type": "markdown",
   "metadata": {},
   "source": [
    "The cross-validation component is in the \"perform grid search with cross-validation\" part of the code. Specifically, it is implemented using GridSearchCV from sklearn.model_selection.\n",
    "\n",
    "Data Split Code:\n",
    "\n",
    "The initial data split code (train_test_split) is used to create separate training, validation, and testing datasets. This is a standard train-test split and is not part of the cross-validation process.\n",
    "\n",
    "This split ensures that the model is trained on one part of the data and validated/tested on separate parts to evaluate its performance.\n",
    "\n",
    "Perform Grid Search with Cross-Validation:\n",
    "\n",
    "The GridSearchCV function performs the cross-validation. It takes the training data and splits it into multiple folds (as specified by the cv parameter, which is set to 3 in this case).\n",
    "\n",
    "For each combination of hyperparameters in the parameter grid, GridSearchCV trains the model on k-1 folds and validates it on the remaining fold. This process is repeated k times (where k is the number of folds), and the performance metrics are averaged.\n",
    "\n",
    "This cross-validation process helps to find the best combination of hyperparameters and provides a more reliable estimate of the model's performance.\n",
    "\n",
    "Summary:\n",
    "\n",
    "Data Split Code: Creates separate training, validation, and testing datasets.\n",
    "\n",
    "Grid Search with Cross-Validation: Uses GridSearchCV to perform cross-validation on the training data to tune hyperparameters and evaluate the model's performance.\n",
    "\n",
    "The cross-validation component is specifically in the GridSearchCV part, which ensures that the model is evaluated on multiple folds of the training data to find the best hyperparameters and provide a robust performance estimate."
   ]
  },
  {
   "cell_type": "markdown",
   "metadata": {},
   "source": [
    "# Function Calls"
   ]
  },
  {
   "cell_type": "markdown",
   "metadata": {},
   "source": [
    "Below are a series of function calls to the functions we have defined."
   ]
  },
  {
   "cell_type": "markdown",
   "metadata": {},
   "source": [
    "## Labels"
   ]
  },
  {
   "cell_type": "markdown",
   "metadata": {},
   "source": [
    "Code on loading the labels from the matlab file, then preprocessing the images, creating the feature matrix we will perform the data splitting on into training, validation, and testing."
   ]
  },
  {
   "cell_type": "code",
   "execution_count": 6,
   "metadata": {},
   "outputs": [
    {
     "name": "stdout",
     "output_type": "stream",
     "text": [
      "Loading labels...\n",
      "Loaded 63445 labels.\n",
      "\n",
      "Label Distribution:\n",
      "Label 1: 14367 (22.64%)\n",
      "Label 2: 14655 (23.10%)\n",
      "Label 3: 13257 (20.90%)\n",
      "Label 4: 13737 (21.65%)\n",
      "Label 5: 5086 (8.02%)\n",
      "Label 6: 2343 (3.69%)\n",
      "Preprocessing images...\n",
      "Processed images 1-5000\n",
      "Processed images 5001-10000\n",
      "Processed images 10001-15000\n",
      "Processed images 15001-20000\n",
      "Processed images 20001-25000\n",
      "Processed images 25001-30000\n",
      "Processed images 30001-35000\n",
      "Processed images 35001-40000\n",
      "Processed images 40001-45000\n",
      "Processed images 45001-50000\n",
      "Processed images 50001-55000\n",
      "Processed images 55001-60000\n",
      "Finished preprocessing images.\n",
      "\n"
     ]
    }
   ],
   "source": [
    "# Local directory paths\n",
    "image_dir = 'cells'  # Directory containing images\n",
    "mat_file = 'labels.mat'  # Labels file\n",
    "num_images = 63445\n",
    "\n",
    "# Load labels and preprocess images\n",
    "labels = load_labels(mat_file, num_labels=num_images)\n",
    "print_label_distribution(labels)\n",
    "images = preprocess_images(image_dir, num_images)"
   ]
  },
  {
   "cell_type": "markdown",
   "metadata": {},
   "source": [
    "## SIFT"
   ]
  },
  {
   "cell_type": "markdown",
   "metadata": {},
   "source": []
  },
  {
   "cell_type": "code",
   "execution_count": 7,
   "metadata": {},
   "outputs": [
    {
     "name": "stdout",
     "output_type": "stream",
     "text": [
      "Extracting SIFT features...\n",
      "Processed SIFT features for 9000/63445 images\n",
      "Processed SIFT features for 10000/63445 images\n",
      "Processed SIFT features for 12000/63445 images\n",
      "Processed SIFT features for 13000/63445 images\n",
      "Processed SIFT features for 23000/63445 images\n",
      "Processed SIFT features for 24000/63445 images\n",
      "Processed SIFT features for 25000/63445 images\n",
      "Processed SIFT features for 26000/63445 images\n",
      "Processed SIFT features for 27000/63445 images\n",
      "Processed SIFT features for 28000/63445 images\n",
      "Processed SIFT features for 29000/63445 images\n",
      "Processed SIFT features for 31000/63445 images\n",
      "Processed SIFT features for 33000/63445 images\n",
      "Processed SIFT features for 38000/63445 images\n",
      "Processed SIFT features for 39000/63445 images\n",
      "Processed SIFT features for 40000/63445 images\n",
      "Processed SIFT features for 41000/63445 images\n",
      "Processed SIFT features for 42000/63445 images\n",
      "Processed SIFT features for 43000/63445 images\n",
      "Processed SIFT features for 45000/63445 images\n",
      "Processed SIFT features for 47000/63445 images\n",
      "Processed SIFT features for 48000/63445 images\n",
      "Processed SIFT features for 50000/63445 images\n",
      "Processed SIFT features for 51000/63445 images\n",
      "Processed SIFT features for 52000/63445 images\n",
      "Processed SIFT features for 53000/63445 images\n",
      "Processed SIFT features for 54000/63445 images\n",
      "Processed SIFT features for 55000/63445 images\n",
      "Processed SIFT features for 56000/63445 images\n",
      "Processed SIFT features for 57000/63445 images\n",
      "Processed SIFT features for 58000/63445 images\n",
      "Processed SIFT features for 62000/63445 images\n",
      "SIFT feature extraction completed. Valid images with features: 30115/63445\n",
      "\n"
     ]
    }
   ],
   "source": [
    "# Extract SIFT features\n",
    "image_features, keypoints_list = extract_sift_features(images)"
   ]
  },
  {
   "cell_type": "markdown",
   "metadata": {},
   "source": [
    "## Drop Images Without Descriptors"
   ]
  },
  {
   "cell_type": "markdown",
   "metadata": {},
   "source": []
  },
  {
   "cell_type": "code",
   "execution_count": 8,
   "metadata": {},
   "outputs": [],
   "source": [
    "# Filter out images without descriptors\n",
    "valid_indices = [i for i, desc in enumerate(image_features) if desc is not None]\n",
    "image_features = [image_features[i] for i in valid_indices]\n",
    "labels = [labels[i] for i in valid_indices]"
   ]
  },
  {
   "cell_type": "markdown",
   "metadata": {},
   "source": [
    "## Keypoint Statistics"
   ]
  },
  {
   "cell_type": "markdown",
   "metadata": {},
   "source": []
  },
  {
   "cell_type": "code",
   "execution_count": 10,
   "metadata": {},
   "outputs": [
    {
     "name": "stdout",
     "output_type": "stream",
     "text": [
      "Average number of keypoints: 7.649211356466877\n",
      "Maximum number of keypoints: 59\n",
      "Minimum number of keypoints: 1\n"
     ]
    }
   ],
   "source": [
    "# Get keypoint statistics\n",
    "avg_keypoints, max_keypoints, min_keypoints = get_keypoint_statistics(keypoints_list)\n",
    "print(f\"Average number of keypoints: {avg_keypoints}\")\n",
    "print(f\"Maximum number of keypoints: {max_keypoints}\")\n",
    "print(f\"Minimum number of keypoints: {min_keypoints}\")"
   ]
  },
  {
   "cell_type": "markdown",
   "metadata": {},
   "source": [
    "## Display Images With Keypoints"
   ]
  },
  {
   "cell_type": "markdown",
   "metadata": {},
   "source": []
  },
  {
   "cell_type": "code",
   "execution_count": 14,
   "metadata": {},
   "outputs": [
    {
     "data": {
      "image/png": "[encoded data removed]",
      "text/plain": [
       "<Figure size 640x480 with 1 Axes>"
      ]
     },
     "metadata": {},
     "output_type": "display_data"
    },
    {
     "data": {
      "image/png": "[encoded data removed]",
      "text/plain": [
       "<Figure size 640x480 with 1 Axes>"
      ]
     },
     "metadata": {},
     "output_type": "display_data"
    }
   ],
   "source": [
    "# Display keypoints on a few images\n",
    "display_keypoints(images, keypoints_list, num_images=2)"
   ]
  },
  {
   "cell_type": "markdown",
   "metadata": {},
   "source": [
    "## Flatten"
   ]
  },
  {
   "cell_type": "markdown",
   "metadata": {},
   "source": [
    "This is a process of converting the data type to a 1 dimensional array."
   ]
  },
  {
   "cell_type": "code",
   "execution_count": 15,
   "metadata": {},
   "outputs": [],
   "source": [
    "# Flatten the list of descriptors and create a feature matrix\n",
    "X = np.array([desc.flatten() for desc in image_features])\n",
    "y = np.array(labels)"
   ]
  },
  {
   "cell_type": "markdown",
   "metadata": {},
   "source": [
    "## Split, Train, Validate, and Test"
   ]
  },
  {
   "cell_type": "code",
   "execution_count": 16,
   "metadata": {},
   "outputs": [
    {
     "name": "stdout",
     "output_type": "stream",
     "text": [
      "Starting training and evaluation...\n",
      "Sampled data shape: (1000, 64000)\n",
      "Sampled data shape: (1000,)\n",
      "Label distribution in sampled data:\n",
      "Label Distribution:\n",
      "Label 1: 467 (46.70%)\n",
      "Label 2: 491 (49.10%)\n",
      "Label 3: 42 (4.20%)\n",
      "Label Distribution:\n",
      "Label 1: 268 (44.67%)\n",
      "Label 2: 306 (51.00%)\n",
      "Label 3: 26 (4.33%)\n",
      "Sampled data split: 600 training, 200 validation, 200 testing samples\n",
      "Data standardized\n",
      "Performing grid search...\n",
      "Fitting 3 folds for each of 48 candidates, totalling 144 fits\n",
      "[CV] END .........................C=0.1, gamma=1, kernel=rbf; total time=   3.4s\n",
      "[CV] END .........................C=0.1, gamma=1, kernel=rbf; total time=   3.3s\n",
      "[CV] END .........................C=0.1, gamma=1, kernel=rbf; total time=   3.5s\n",
      "[CV] END ........................C=0.1, gamma=1, kernel=poly; total time=   2.0s\n",
      "[CV] END ........................C=0.1, gamma=1, kernel=poly; total time=   1.9s\n",
      "[CV] END ........................C=0.1, gamma=1, kernel=poly; total time=   1.8s\n",
      "[CV] END .....................C=0.1, gamma=1, kernel=sigmoid; total time=   1.6s\n",
      "[CV] END .....................C=0.1, gamma=1, kernel=sigmoid; total time=   1.5s\n",
      "[CV] END .....................C=0.1, gamma=1, kernel=sigmoid; total time=   1.5s\n",
      "[CV] END .......................C=0.1, gamma=0.1, kernel=rbf; total time=   3.2s\n",
      "[CV] END .......................C=0.1, gamma=0.1, kernel=rbf; total time=   3.3s\n",
      "[CV] END .......................C=0.1, gamma=0.1, kernel=rbf; total time=   3.4s\n",
      "[CV] END ......................C=0.1, gamma=0.1, kernel=poly; total time=   2.0s\n",
      "[CV] END ......................C=0.1, gamma=0.1, kernel=poly; total time=   2.0s\n",
      "[CV] END ......................C=0.1, gamma=0.1, kernel=poly; total time=   1.8s\n",
      "[CV] END ...................C=0.1, gamma=0.1, kernel=sigmoid; total time=   1.6s\n",
      "[CV] END ...................C=0.1, gamma=0.1, kernel=sigmoid; total time=   1.6s\n",
      "[CV] END ...................C=0.1, gamma=0.1, kernel=sigmoid; total time=   1.5s\n",
      "[CV] END ......................C=0.1, gamma=0.01, kernel=rbf; total time=   3.1s\n",
      "[CV] END ......................C=0.1, gamma=0.01, kernel=rbf; total time=   3.1s\n",
      "[CV] END ......................C=0.1, gamma=0.01, kernel=rbf; total time=   3.2s\n",
      "[CV] END .....................C=0.1, gamma=0.01, kernel=poly; total time=   2.1s\n",
      "[CV] END .....................C=0.1, gamma=0.01, kernel=poly; total time=   2.1s\n",
      "[CV] END .....................C=0.1, gamma=0.01, kernel=poly; total time=   2.2s\n",
      "[CV] END ..................C=0.1, gamma=0.01, kernel=sigmoid; total time=   1.6s\n",
      "[CV] END ..................C=0.1, gamma=0.01, kernel=sigmoid; total time=   1.6s\n",
      "[CV] END ..................C=0.1, gamma=0.01, kernel=sigmoid; total time=   1.7s\n",
      "[CV] END .....................C=0.1, gamma=0.001, kernel=rbf; total time=   3.0s\n",
      "[CV] END .....................C=0.1, gamma=0.001, kernel=rbf; total time=   2.8s\n",
      "[CV] END .....................C=0.1, gamma=0.001, kernel=rbf; total time=   2.9s\n",
      "[CV] END ....................C=0.1, gamma=0.001, kernel=poly; total time=   2.2s\n",
      "[CV] END ....................C=0.1, gamma=0.001, kernel=poly; total time=   2.2s\n",
      "[CV] END ....................C=0.1, gamma=0.001, kernel=poly; total time=   2.2s\n",
      "[CV] END .................C=0.1, gamma=0.001, kernel=sigmoid; total time=   1.7s\n",
      "[CV] END .................C=0.1, gamma=0.001, kernel=sigmoid; total time=   1.6s\n",
      "[CV] END .................C=0.1, gamma=0.001, kernel=sigmoid; total time=   1.7s\n",
      "[CV] END ...........................C=1, gamma=1, kernel=rbf; total time=   3.3s\n",
      "[CV] END ...........................C=1, gamma=1, kernel=rbf; total time=   3.3s\n",
      "[CV] END ...........................C=1, gamma=1, kernel=rbf; total time=   3.4s\n",
      "[CV] END ..........................C=1, gamma=1, kernel=poly; total time=   2.0s\n",
      "[CV] END ..........................C=1, gamma=1, kernel=poly; total time=   1.9s\n",
      "[CV] END ..........................C=1, gamma=1, kernel=poly; total time=   1.8s\n",
      "[CV] END .......................C=1, gamma=1, kernel=sigmoid; total time=   1.4s\n",
      "[CV] END .......................C=1, gamma=1, kernel=sigmoid; total time=   1.2s\n",
      "[CV] END .......................C=1, gamma=1, kernel=sigmoid; total time=   1.3s\n",
      "[CV] END .........................C=1, gamma=0.1, kernel=rbf; total time=   3.2s\n",
      "[CV] END .........................C=1, gamma=0.1, kernel=rbf; total time=   3.2s\n",
      "[CV] END .........................C=1, gamma=0.1, kernel=rbf; total time=   3.3s\n",
      "[CV] END ........................C=1, gamma=0.1, kernel=poly; total time=   2.0s\n",
      "[CV] END ........................C=1, gamma=0.1, kernel=poly; total time=   2.0s\n",
      "[CV] END ........................C=1, gamma=0.1, kernel=poly; total time=   1.8s\n",
      "[CV] END .....................C=1, gamma=0.1, kernel=sigmoid; total time=   1.6s\n",
      "[CV] END .....................C=1, gamma=0.1, kernel=sigmoid; total time=   0.9s\n",
      "[CV] END .....................C=1, gamma=0.1, kernel=sigmoid; total time=   1.4s\n",
      "[CV] END ........................C=1, gamma=0.01, kernel=rbf; total time=   3.1s\n",
      "[CV] END ........................C=1, gamma=0.01, kernel=rbf; total time=   2.9s\n",
      "[CV] END ........................C=1, gamma=0.01, kernel=rbf; total time=   3.1s\n",
      "[CV] END .......................C=1, gamma=0.01, kernel=poly; total time=   2.1s\n",
      "[CV] END .......................C=1, gamma=0.01, kernel=poly; total time=   2.0s\n",
      "[CV] END .......................C=1, gamma=0.01, kernel=poly; total time=   1.9s\n",
      "[CV] END ....................C=1, gamma=0.01, kernel=sigmoid; total time=   1.3s\n",
      "[CV] END ....................C=1, gamma=0.01, kernel=sigmoid; total time=   1.3s\n",
      "[CV] END ....................C=1, gamma=0.01, kernel=sigmoid; total time=   1.3s\n",
      "[CV] END .......................C=1, gamma=0.001, kernel=rbf; total time=   2.8s\n",
      "[CV] END .......................C=1, gamma=0.001, kernel=rbf; total time=   2.8s\n",
      "[CV] END .......................C=1, gamma=0.001, kernel=rbf; total time=   2.9s\n",
      "[CV] END ......................C=1, gamma=0.001, kernel=poly; total time=   2.2s\n",
      "[CV] END ......................C=1, gamma=0.001, kernel=poly; total time=   2.1s\n",
      "[CV] END ......................C=1, gamma=0.001, kernel=poly; total time=   2.1s\n",
      "[CV] END ...................C=1, gamma=0.001, kernel=sigmoid; total time=   1.4s\n",
      "[CV] END ...................C=1, gamma=0.001, kernel=sigmoid; total time=   1.4s\n",
      "[CV] END ...................C=1, gamma=0.001, kernel=sigmoid; total time=   1.5s\n",
      "[CV] END ..........................C=10, gamma=1, kernel=rbf; total time=   3.3s\n",
      "[CV] END ..........................C=10, gamma=1, kernel=rbf; total time=   3.3s\n",
      "[CV] END ..........................C=10, gamma=1, kernel=rbf; total time=   3.3s\n",
      "[CV] END .........................C=10, gamma=1, kernel=poly; total time=   2.0s\n",
      "[CV] END .........................C=10, gamma=1, kernel=poly; total time=   1.9s\n",
      "[CV] END .........................C=10, gamma=1, kernel=poly; total time=   1.8s\n",
      "[CV] END ......................C=10, gamma=1, kernel=sigmoid; total time=   1.3s\n",
      "[CV] END ......................C=10, gamma=1, kernel=sigmoid; total time=   1.2s\n",
      "[CV] END ......................C=10, gamma=1, kernel=sigmoid; total time=   1.3s\n",
      "[CV] END ........................C=10, gamma=0.1, kernel=rbf; total time=   3.3s\n",
      "[CV] END ........................C=10, gamma=0.1, kernel=rbf; total time=   3.2s\n",
      "[CV] END ........................C=10, gamma=0.1, kernel=rbf; total time=   3.2s\n",
      "[CV] END .......................C=10, gamma=0.1, kernel=poly; total time=   2.0s\n",
      "[CV] END .......................C=10, gamma=0.1, kernel=poly; total time=   2.0s\n",
      "[CV] END .......................C=10, gamma=0.1, kernel=poly; total time=   1.8s\n",
      "[CV] END ....................C=10, gamma=0.1, kernel=sigmoid; total time=   1.4s\n",
      "[CV] END ....................C=10, gamma=0.1, kernel=sigmoid; total time=   0.8s\n",
      "[CV] END ....................C=10, gamma=0.1, kernel=sigmoid; total time=   1.3s\n",
      "[CV] END .......................C=10, gamma=0.01, kernel=rbf; total time=   3.2s\n",
      "[CV] END .......................C=10, gamma=0.01, kernel=rbf; total time=   3.1s\n",
      "[CV] END .......................C=10, gamma=0.01, kernel=rbf; total time=   3.1s\n",
      "[CV] END ......................C=10, gamma=0.01, kernel=poly; total time=   2.0s\n",
      "[CV] END ......................C=10, gamma=0.01, kernel=poly; total time=   2.0s\n",
      "[CV] END ......................C=10, gamma=0.01, kernel=poly; total time=   1.9s\n",
      "[CV] END ...................C=10, gamma=0.01, kernel=sigmoid; total time=   1.3s\n",
      "[CV] END ...................C=10, gamma=0.01, kernel=sigmoid; total time=   1.2s\n",
      "[CV] END ...................C=10, gamma=0.01, kernel=sigmoid; total time=   1.3s\n",
      "[CV] END ......................C=10, gamma=0.001, kernel=rbf; total time=   2.9s\n",
      "[CV] END ......................C=10, gamma=0.001, kernel=rbf; total time=   2.9s\n",
      "[CV] END ......................C=10, gamma=0.001, kernel=rbf; total time=   2.9s\n",
      "[CV] END .....................C=10, gamma=0.001, kernel=poly; total time=   2.3s\n",
      "[CV] END .....................C=10, gamma=0.001, kernel=poly; total time=   2.6s\n",
      "[CV] END .....................C=10, gamma=0.001, kernel=poly; total time=   2.2s\n",
      "[CV] END ..................C=10, gamma=0.001, kernel=sigmoid; total time=   1.3s\n",
      "[CV] END ..................C=10, gamma=0.001, kernel=sigmoid; total time=   1.1s\n",
      "[CV] END ..................C=10, gamma=0.001, kernel=sigmoid; total time=   1.1s\n",
      "[CV] END .........................C=100, gamma=1, kernel=rbf; total time=   3.2s\n",
      "[CV] END .........................C=100, gamma=1, kernel=rbf; total time=   3.2s\n",
      "[CV] END .........................C=100, gamma=1, kernel=rbf; total time=   3.2s\n",
      "[CV] END ........................C=100, gamma=1, kernel=poly; total time=   1.9s\n",
      "[CV] END ........................C=100, gamma=1, kernel=poly; total time=   1.9s\n",
      "[CV] END ........................C=100, gamma=1, kernel=poly; total time=   1.7s\n",
      "[CV] END .....................C=100, gamma=1, kernel=sigmoid; total time=   1.3s\n",
      "[CV] END .....................C=100, gamma=1, kernel=sigmoid; total time=   1.2s\n",
      "[CV] END .....................C=100, gamma=1, kernel=sigmoid; total time=   1.2s\n",
      "[CV] END .......................C=100, gamma=0.1, kernel=rbf; total time=   3.2s\n",
      "[CV] END .......................C=100, gamma=0.1, kernel=rbf; total time=   3.2s\n",
      "[CV] END .......................C=100, gamma=0.1, kernel=rbf; total time=   3.2s\n",
      "[CV] END ......................C=100, gamma=0.1, kernel=poly; total time=   1.9s\n",
      "[CV] END ......................C=100, gamma=0.1, kernel=poly; total time=   1.9s\n",
      "[CV] END ......................C=100, gamma=0.1, kernel=poly; total time=   1.7s\n",
      "[CV] END ...................C=100, gamma=0.1, kernel=sigmoid; total time=   1.3s\n",
      "[CV] END ...................C=100, gamma=0.1, kernel=sigmoid; total time=   0.8s\n",
      "[CV] END ...................C=100, gamma=0.1, kernel=sigmoid; total time=   1.2s\n",
      "[CV] END ......................C=100, gamma=0.01, kernel=rbf; total time=   3.1s\n",
      "[CV] END ......................C=100, gamma=0.01, kernel=rbf; total time=   3.0s\n",
      "[CV] END ......................C=100, gamma=0.01, kernel=rbf; total time=   3.0s\n",
      "[CV] END .....................C=100, gamma=0.01, kernel=poly; total time=   1.9s\n",
      "[CV] END .....................C=100, gamma=0.01, kernel=poly; total time=   1.9s\n",
      "[CV] END .....................C=100, gamma=0.01, kernel=poly; total time=   1.7s\n",
      "[CV] END ..................C=100, gamma=0.01, kernel=sigmoid; total time=   1.1s\n",
      "[CV] END ..................C=100, gamma=0.01, kernel=sigmoid; total time=   1.1s\n",
      "[CV] END ..................C=100, gamma=0.01, kernel=sigmoid; total time=   1.2s\n",
      "[CV] END .....................C=100, gamma=0.001, kernel=rbf; total time=   2.8s\n",
      "[CV] END .....................C=100, gamma=0.001, kernel=rbf; total time=   2.8s\n",
      "[CV] END .....................C=100, gamma=0.001, kernel=rbf; total time=   2.8s\n",
      "[CV] END ....................C=100, gamma=0.001, kernel=poly; total time=   2.1s\n",
      "[CV] END ....................C=100, gamma=0.001, kernel=poly; total time=   2.1s\n",
      "[CV] END ....................C=100, gamma=0.001, kernel=poly; total time=   2.1s\n",
      "[CV] END .................C=100, gamma=0.001, kernel=sigmoid; total time=   0.9s\n",
      "[CV] END .................C=100, gamma=0.001, kernel=sigmoid; total time=   0.9s\n",
      "[CV] END .................C=100, gamma=0.001, kernel=sigmoid; total time=   0.9s\n",
      "Grid search completed\n",
      "Best parameters found: {'C': 1, 'gamma': 0.001, 'kernel': 'rbf'}\n",
      "Validating model...\n",
      "Validation Accuracy: 0.715\n",
      "Validation Classification Report:\n",
      "              precision    recall  f1-score   support\n",
      "\n",
      "           1       0.86      0.61      0.72       101\n",
      "           2       0.63      0.91      0.75        89\n",
      "           3       0.00      0.00      0.00        10\n",
      "\n",
      "    accuracy                           0.71       200\n",
      "   macro avg       0.50      0.51      0.49       200\n",
      "weighted avg       0.72      0.71      0.69       200\n",
      "\n",
      "Testing model...\n"
     ]
    },
    {
     "name": "stderr",
     "output_type": "stream",
     "text": [
      "/Library/Frameworks/Python.framework/Versions/3.11/lib/python3.11/site-packages/sklearn/metrics/_classification.py:1531: UndefinedMetricWarning: Precision is ill-defined and being set to 0.0 in labels with no predicted samples. Use `zero_division` parameter to control this behavior.\n",
      "  _warn_prf(average, modifier, f\"{metric.capitalize()} is\", len(result))\n",
      "/Library/Frameworks/Python.framework/Versions/3.11/lib/python3.11/site-packages/sklearn/metrics/_classification.py:1531: UndefinedMetricWarning: Precision is ill-defined and being set to 0.0 in labels with no predicted samples. Use `zero_division` parameter to control this behavior.\n",
      "  _warn_prf(average, modifier, f\"{metric.capitalize()} is\", len(result))\n",
      "/Library/Frameworks/Python.framework/Versions/3.11/lib/python3.11/site-packages/sklearn/metrics/_classification.py:1531: UndefinedMetricWarning: Precision is ill-defined and being set to 0.0 in labels with no predicted samples. Use `zero_division` parameter to control this behavior.\n",
      "  _warn_prf(average, modifier, f\"{metric.capitalize()} is\", len(result))\n"
     ]
    },
    {
     "name": "stdout",
     "output_type": "stream",
     "text": [
      "Test Accuracy: 0.725\n",
      "Test Classification Report:\n",
      "              precision    recall  f1-score   support\n",
      "\n",
      "           1       0.79      0.65      0.72        98\n",
      "           2       0.68      0.84      0.75        96\n",
      "           3       0.00      0.00      0.00         6\n",
      "\n",
      "    accuracy                           0.72       200\n",
      "   macro avg       0.49      0.50      0.49       200\n",
      "weighted avg       0.71      0.72      0.71       200\n",
      "\n"
     ]
    },
    {
     "name": "stderr",
     "output_type": "stream",
     "text": [
      "/Library/Frameworks/Python.framework/Versions/3.11/lib/python3.11/site-packages/sklearn/metrics/_classification.py:1531: UndefinedMetricWarning: Precision is ill-defined and being set to 0.0 in labels with no predicted samples. Use `zero_division` parameter to control this behavior.\n",
      "  _warn_prf(average, modifier, f\"{metric.capitalize()} is\", len(result))\n",
      "/Library/Frameworks/Python.framework/Versions/3.11/lib/python3.11/site-packages/sklearn/metrics/_classification.py:1531: UndefinedMetricWarning: Precision is ill-defined and being set to 0.0 in labels with no predicted samples. Use `zero_division` parameter to control this behavior.\n",
      "  _warn_prf(average, modifier, f\"{metric.capitalize()} is\", len(result))\n",
      "/Library/Frameworks/Python.framework/Versions/3.11/lib/python3.11/site-packages/sklearn/metrics/_classification.py:1531: UndefinedMetricWarning: Precision is ill-defined and being set to 0.0 in labels with no predicted samples. Use `zero_division` parameter to control this behavior.\n",
      "  _warn_prf(average, modifier, f\"{metric.capitalize()} is\", len(result))\n"
     ]
    }
   ],
   "source": [
    "# Train and evaluate the model\n",
    "train_and_evaluate(X, y)"
   ]
  },
  {
   "cell_type": "markdown",
   "metadata": {},
   "source": [
    "The scores here with dropping non-descriptor images and using hyperparameter tuning with GridSearch give the best scores.  Test accuracy of about 73% is very good.  Without the GridSearch we get about 70%.  Just SVM was giving about 50%.  SVM with SIFT without dropping images gives about 40%."
   ]
  }
 ],
 "metadata": {
  "kernelspec": {
   "display_name": "Python 3",
   "language": "python",
   "name": "python3"
  },
  "language_info": {
   "codemirror_mode": {
    "name": "ipython",
    "version": 3
   },
   "file_extension": ".py",
   "mimetype": "text/x-python",
   "name": "python",
   "nbconvert_exporter": "python",
   "pygments_lexer": "ipython3",
   "version": "3.11.9"
  }
 },
 "nbformat": 4,
 "nbformat_minor": 2
}
