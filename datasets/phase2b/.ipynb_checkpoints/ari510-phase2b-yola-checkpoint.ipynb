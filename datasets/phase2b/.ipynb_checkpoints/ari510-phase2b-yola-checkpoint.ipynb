{
 "cells": [
  {
   "cell_type": "markdown",
   "id": "8b967f6a-3c82-4f14-bdf8-ccb5032a0211",
   "metadata": {},
   "source": [
    "# ARI 510 Phase 2b"
   ]
  },
  {
   "cell_type": "markdown",
   "id": "0562f4a8-c746-4838-8109-7e2a788966be",
   "metadata": {},
   "source": [
    "Project Phase 2b Competition Participation\n",
    "Ryan Smith\n",
    "Project Competing in: Yola's team's."
   ]
  },
  {
   "cell_type": "markdown",
   "id": "d3856954",
   "metadata": {},
   "source": [
    "# Data Loading"
   ]
  },
  {
   "cell_type": "markdown",
   "id": "9ecaa945",
   "metadata": {},
   "source": [
    "Below we will load our dataset."
   ]
  },
  {
   "cell_type": "code",
   "execution_count": null,
   "id": "9cf31c17",
   "metadata": {},
   "outputs": [],
   "source": [
    "# data loading"
   ]
  },
  {
   "cell_type": "markdown",
   "id": "7282bc25",
   "metadata": {},
   "source": [
    "Our dataset loading went well..."
   ]
  },
  {
   "cell_type": "markdown",
   "id": "0180dc66",
   "metadata": {},
   "source": [
    "# Preprocessing"
   ]
  },
  {
   "cell_type": "markdown",
   "id": "276c6ebf",
   "metadata": {},
   "source": [
    "Below we will go through some standard preprocessing."
   ]
  },
  {
   "cell_type": "code",
   "execution_count": null,
   "id": "10299c94",
   "metadata": {},
   "outputs": [],
   "source": [
    "# preprocessing"
   ]
  },
  {
   "cell_type": "markdown",
   "id": "9dc1d424",
   "metadata": {},
   "source": [
    "Our preprocessing phase went well..."
   ]
  },
  {
   "cell_type": "markdown",
   "id": "17e7d11b",
   "metadata": {},
   "source": [
    "# Model 1 Building"
   ]
  },
  {
   "cell_type": "markdown",
   "id": "ae334658",
   "metadata": {},
   "source": [
    "Below we will build our first model."
   ]
  },
  {
   "cell_type": "code",
   "execution_count": null,
   "id": "35d4f956",
   "metadata": {},
   "outputs": [],
   "source": [
    "# model 1 building"
   ]
  },
  {
   "cell_type": "markdown",
   "id": "5671e030",
   "metadata": {},
   "source": [
    "Our first model building went well..."
   ]
  },
  {
   "cell_type": "markdown",
   "id": "a9a14c6c",
   "metadata": {},
   "source": [
    "# Model 1 Training"
   ]
  },
  {
   "cell_type": "markdown",
   "id": "88dd0a71",
   "metadata": {},
   "source": [
    "Below we will train our first model that we built."
   ]
  },
  {
   "cell_type": "code",
   "execution_count": null,
   "id": "83464740",
   "metadata": {},
   "outputs": [],
   "source": [
    "# model 1 training"
   ]
  },
  {
   "cell_type": "markdown",
   "id": "2cd189ed",
   "metadata": {},
   "source": [
    "Our first model training went well..."
   ]
  },
  {
   "cell_type": "markdown",
   "id": "c8d0a22b",
   "metadata": {},
   "source": [
    "# Model 1 Validation"
   ]
  },
  {
   "cell_type": "markdown",
   "id": "dab084d4",
   "metadata": {},
   "source": [
    "Below we will run our non tuned model on the validation dataset and get the metrics.  After, we will tune some of the hyperparameters and check metrics again."
   ]
  },
  {
   "cell_type": "code",
   "execution_count": null,
   "id": "348f3c43",
   "metadata": {},
   "outputs": [],
   "source": [
    "# model 1 validation"
   ]
  },
  {
   "cell_type": "markdown",
   "id": "d329f2a1",
   "metadata": {},
   "source": [
    "Our first model validation went well..."
   ]
  },
  {
   "cell_type": "markdown",
   "id": "b166a7ee",
   "metadata": {},
   "source": [
    "## Metrics on the Non-Tuned Model 1 with the Validation Set"
   ]
  },
  {
   "cell_type": "code",
   "execution_count": null,
   "id": "a2388462",
   "metadata": {},
   "outputs": [],
   "source": [
    "# metrics on the non-tuned model 1 and validation set"
   ]
  },
  {
   "cell_type": "markdown",
   "id": "7cc4422e",
   "metadata": {},
   "source": [
    "Our metrics look..."
   ]
  },
  {
   "cell_type": "markdown",
   "id": "41f45fac",
   "metadata": {},
   "source": [
    "## Hyperparameters on the Validation Set"
   ]
  },
  {
   "cell_type": "markdown",
   "id": "dc1d4fa3",
   "metadata": {},
   "source": [
    "Below we will tune some of the hyperparameters of the model."
   ]
  },
  {
   "cell_type": "code",
   "execution_count": null,
   "id": "0ad8bb5a",
   "metadata": {},
   "outputs": [],
   "source": [
    "# hyperparameter tuning"
   ]
  },
  {
   "cell_type": "markdown",
   "id": "4d21bc94",
   "metadata": {},
   "source": [
    "Now that we have our hyperparameters tuned, we can test them below with metrics."
   ]
  },
  {
   "cell_type": "markdown",
   "id": "f5032bd4",
   "metadata": {},
   "source": [
    "## Metrics on the Tuned Model 1 with the Validation Set"
   ]
  },
  {
   "cell_type": "markdown",
   "id": "c4007cae",
   "metadata": {},
   "source": [
    "Below we will go through the standard metrics for the validation set."
   ]
  },
  {
   "cell_type": "code",
   "execution_count": null,
   "id": "defb5e6a",
   "metadata": {},
   "outputs": [],
   "source": [
    "# metrics on the tuned model 1 and validation set"
   ]
  },
  {
   "cell_type": "markdown",
   "id": "6ce3e81f",
   "metadata": {},
   "source": [
    "Our tuned metrics results are..."
   ]
  },
  {
   "cell_type": "markdown",
   "id": "8e913ce8",
   "metadata": {},
   "source": [
    "## Validation Models Comparison"
   ]
  },
  {
   "cell_type": "markdown",
   "id": "7faf479c",
   "metadata": {},
   "source": [
    "Our tuned model performed ...  We can now move on to testing our model."
   ]
  },
  {
   "cell_type": "markdown",
   "id": "69bfe08b",
   "metadata": {},
   "source": [
    "# Model 1 Testing"
   ]
  },
  {
   "cell_type": "code",
   "execution_count": null,
   "id": "9d2fedbd",
   "metadata": {},
   "outputs": [],
   "source": [
    "# model 1 testing"
   ]
  },
  {
   "cell_type": "markdown",
   "id": "1f343cc5",
   "metadata": {},
   "source": [
    "Our model 1 testing went well..."
   ]
  },
  {
   "cell_type": "markdown",
   "id": "b26c0acc",
   "metadata": {},
   "source": [
    "## Metrics on the Testing Set"
   ]
  },
  {
   "cell_type": "code",
   "execution_count": null,
   "id": "a858cf18",
   "metadata": {},
   "outputs": [],
   "source": [
    "# metrics on the testing set"
   ]
  },
  {
   "cell_type": "markdown",
   "id": "6dd59d01",
   "metadata": {},
   "source": [
    "Our metrics results are..."
   ]
  },
  {
   "cell_type": "markdown",
   "id": "4d8ae136",
   "metadata": {},
   "source": [
    "# Conclusion for Model 1"
   ]
  },
  {
   "cell_type": "markdown",
   "id": "963feb89",
   "metadata": {},
   "source": [
    "The conclusion for model 1 is..."
   ]
  },
  {
   "cell_type": "markdown",
   "id": "995da120-81e5-46bb-a0f1-11065aa6af6c",
   "metadata": {},
   "source": [
    "# Model 1 Building"
   ]
  },
  {
   "cell_type": "markdown",
   "id": "0221ab25-d5b9-4d80-8d43-bcd3f1478180",
   "metadata": {},
   "source": [
    "Below we will build our first model."
   ]
  },
  {
   "cell_type": "code",
   "execution_count": null,
   "id": "bf11d3e0-f8fe-413c-ac63-f998c3948d81",
   "metadata": {},
   "outputs": [],
   "source": [
    "# model 1 building"
   ]
  },
  {
   "cell_type": "markdown",
   "id": "9822aca5-8160-4ce1-85b2-472375e6c32c",
   "metadata": {},
   "source": [
    "Our first model building went well..."
   ]
  },
  {
   "cell_type": "markdown",
   "id": "219ef9f5-38b6-429a-93ab-46de88309408",
   "metadata": {},
   "source": [
    "# Model 1 Training"
   ]
  },
  {
   "cell_type": "markdown",
   "id": "84faec6f-3b71-4b62-a24b-6b6c27bffe68",
   "metadata": {},
   "source": [
    "Below we will train our first model that we built."
   ]
  },
  {
   "cell_type": "code",
   "execution_count": null,
   "id": "405a52e0-f60f-4b34-96f2-a34f92cc97e8",
   "metadata": {},
   "outputs": [],
   "source": [
    "# model 1 training"
   ]
  },
  {
   "cell_type": "markdown",
   "id": "e3d5b14f-11bd-4ad3-9ae9-fb5c157c1a7b",
   "metadata": {},
   "source": [
    "Our first model training went well..."
   ]
  },
  {
   "cell_type": "markdown",
   "id": "605d602a-f340-4c38-a155-39296633c141",
   "metadata": {},
   "source": [
    "# Model 1 Validation"
   ]
  },
  {
   "cell_type": "markdown",
   "id": "0e1f0028-7c5c-4f95-b6eb-c6b841955c89",
   "metadata": {},
   "source": [
    "Below we will run our non tuned model on the validation dataset and get the metrics.  After, we will tune some of the hyperparameters and check metrics again."
   ]
  },
  {
   "cell_type": "code",
   "execution_count": null,
   "id": "d2a3e2cd-5387-4932-8bee-55c3fb8f8ffa",
   "metadata": {},
   "outputs": [],
   "source": [
    "# model 1 validation"
   ]
  },
  {
   "cell_type": "markdown",
   "id": "5180fcc9-0961-4356-a488-5ca1fceed76d",
   "metadata": {},
   "source": [
    "Our first model validation went well..."
   ]
  },
  {
   "cell_type": "markdown",
   "id": "4145a620-63ab-44ec-8b05-e2142074d515",
   "metadata": {},
   "source": [
    "## Metrics on the Non-Tuned Model 1 with the Validation Set"
   ]
  },
  {
   "cell_type": "code",
   "execution_count": null,
   "id": "3a4dd125-68c1-4ab1-9f16-6e80435cd886",
   "metadata": {},
   "outputs": [],
   "source": [
    "# metrics on the non-tuned model 1 and validation set"
   ]
  },
  {
   "cell_type": "markdown",
   "id": "067033aa-8bb9-4e18-b6c0-f9bce222bc24",
   "metadata": {},
   "source": [
    "Our metrics look..."
   ]
  },
  {
   "cell_type": "markdown",
   "id": "d7ee6881-94d0-45f5-89b6-e51d259d83f4",
   "metadata": {},
   "source": [
    "## Hyperparameters on the Validation Set"
   ]
  },
  {
   "cell_type": "markdown",
   "id": "0d9a9d40-4016-42e7-a2f6-cec8cacaa455",
   "metadata": {},
   "source": [
    "Below we will tune some of the hyperparameters of the model."
   ]
  },
  {
   "cell_type": "code",
   "execution_count": null,
   "id": "050763c7-bad6-48cd-bd16-c906cf818a13",
   "metadata": {},
   "outputs": [],
   "source": [
    "# hyperparameter tuning"
   ]
  },
  {
   "cell_type": "markdown",
   "id": "c4b1e45a-ddfb-40cc-9c3a-664cb9548067",
   "metadata": {},
   "source": [
    "Now that we have our hyperparameters tuned, we can test them below with metrics."
   ]
  },
  {
   "cell_type": "markdown",
   "id": "d218fd54-a9a6-48e5-a5a0-e86e8a7b6e5a",
   "metadata": {},
   "source": [
    "## Metrics on the Tuned Model 1 with the Validation Set"
   ]
  },
  {
   "cell_type": "markdown",
   "id": "808b58d6-10bb-4d5a-886e-123584733e84",
   "metadata": {},
   "source": [
    "Below we will go through the standard metrics for the validation set."
   ]
  },
  {
   "cell_type": "code",
   "execution_count": null,
   "id": "a0f53471-d30a-4b3f-aa92-9e7ffbbbeef8",
   "metadata": {},
   "outputs": [],
   "source": [
    "# metrics on the tuned model 1 and validation set"
   ]
  },
  {
   "cell_type": "markdown",
   "id": "56bab163-7d5c-4d7c-a6cb-1e0c175bdac1",
   "metadata": {},
   "source": [
    "Our tuned metrics results are..."
   ]
  },
  {
   "cell_type": "markdown",
   "id": "f8f9652f-748a-4c60-8402-13a24472d496",
   "metadata": {},
   "source": [
    "## Validation Models Comparison"
   ]
  },
  {
   "cell_type": "markdown",
   "id": "8d1233e0-5ee0-4867-8a2b-98f6c4d57511",
   "metadata": {},
   "source": [
    "Our tuned model performed ...  We can now move on to testing our model."
   ]
  },
  {
   "cell_type": "markdown",
   "id": "f1845c67-fa38-44fe-a517-20c4c6c5e6ba",
   "metadata": {},
   "source": [
    "# Model 1 Testing"
   ]
  },
  {
   "cell_type": "code",
   "execution_count": null,
   "id": "e35e3698-89a1-434f-9fb6-3a2db4c2091c",
   "metadata": {},
   "outputs": [],
   "source": [
    "# model 1 testing"
   ]
  },
  {
   "cell_type": "markdown",
   "id": "f2bddcb8-d08b-400f-891b-4e97824b5e68",
   "metadata": {},
   "source": [
    "Our model 1 testing went well..."
   ]
  },
  {
   "cell_type": "markdown",
   "id": "cc60c7d0-5584-4f7b-a5ce-954d04e72b9e",
   "metadata": {},
   "source": [
    "## Metrics on the Testing Set"
   ]
  },
  {
   "cell_type": "code",
   "execution_count": null,
   "id": "7721141f-3f8d-4486-b82f-48c60dfa69de",
   "metadata": {},
   "outputs": [],
   "source": [
    "# metrics on the testing set"
   ]
  },
  {
   "cell_type": "markdown",
   "id": "8d452f50-357a-4d14-8d6d-f1c161f63cba",
   "metadata": {},
   "source": [
    "Our metrics results are..."
   ]
  },
  {
   "cell_type": "markdown",
   "id": "35a9a049-3b91-4464-a17c-28bd8a7e8432",
   "metadata": {},
   "source": [
    "# Conclusion for Model 1"
   ]
  },
  {
   "cell_type": "markdown",
   "id": "b6504154-6b54-415d-b034-88f3f4d03bd5",
   "metadata": {},
   "source": [
    "The conclusion for model 1 is..."
   ]
  }
 ],
 "metadata": {
  "kernelspec": {
   "display_name": "Python 3 (ipykernel)",
   "language": "python",
   "name": "python3"
  },
  "language_info": {
   "codemirror_mode": {
    "name": "ipython",
    "version": 3
   },
   "file_extension": ".py",
   "mimetype": "text/x-python",
   "name": "python",
   "nbconvert_exporter": "python",
   "pygments_lexer": "ipython3",
   "version": "3.11.9"
  }
 },
 "nbformat": 4,
 "nbformat_minor": 5
}
