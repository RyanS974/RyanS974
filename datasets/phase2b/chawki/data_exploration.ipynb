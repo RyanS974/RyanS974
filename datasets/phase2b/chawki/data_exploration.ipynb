# Importing required libraries
import pandas as pd

# Load the data
train_data = pd.read_csv('data/train_data.csv')

# Show basic info
print(train_data.info())

# Display first few rows of the training data
print(train_data.head())

# Exploring the distribution of the Ground_Truth labels
print(train_data['Ground_Truth'].value_counts())

# Checking for missing values
print(train_data.isnull().sum())
